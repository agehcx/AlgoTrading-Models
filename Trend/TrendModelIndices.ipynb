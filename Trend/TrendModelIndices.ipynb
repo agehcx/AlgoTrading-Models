{
 "cells": [
  {
   "cell_type": "code",
   "execution_count": 1,
   "metadata": {},
   "outputs": [
    {
     "name": "stderr",
     "output_type": "stream",
     "text": [
      "c:\\Users\\HP Victus 16\\AppData\\Local\\Programs\\Python\\Python311\\Lib\\site-packages\\pyfolio\\pos.py:26: UserWarning: Module \"zipline.assets\" not found; mutltipliers will not be applied to position notionals.\n",
      "  warnings.warn(\n",
      "[*********************100%%**********************]  1 of 1 completed\n"
     ]
    },
    {
     "name": "stdout",
     "output_type": "stream",
     "text": [
      "^GSPC | Train : 0.5611 | Test : 0.5400\n",
      "0.12078 0.14895 0.83984 -0.25425\n"
     ]
    },
    {
     "name": "stderr",
     "output_type": "stream",
     "text": [
      "[*********************100%%**********************]  1 of 1 completed\n"
     ]
    },
    {
     "name": "stdout",
     "output_type": "stream",
     "text": [
      "^DJI | Train : 0.5490 | Test : 0.5471\n",
      "0.12003 0.14542 0.85177 -0.21941\n"
     ]
    },
    {
     "name": "stderr",
     "output_type": "stream",
     "text": [
      "[*********************100%%**********************]  1 of 1 completed\n"
     ]
    },
    {
     "name": "stdout",
     "output_type": "stream",
     "text": [
      "^IXIC | Train : 0.5581 | Test : 0.5550\n",
      "0.14267 0.21927 0.71844 -0.36395\n"
     ]
    },
    {
     "name": "stderr",
     "output_type": "stream",
     "text": [
      "[*********************100%%**********************]  1 of 1 completed\n"
     ]
    },
    {
     "name": "stdout",
     "output_type": "stream",
     "text": [
      "^NYA | Train : 0.5565 | Test : 0.5090\n",
      "0.06977 0.17765 0.46918 -0.38114\n"
     ]
    },
    {
     "name": "stderr",
     "output_type": "stream",
     "text": [
      "[*********************100%%**********************]  1 of 1 completed\n"
     ]
    },
    {
     "name": "stdout",
     "output_type": "stream",
     "text": [
      "^XAX | Train : 0.5886 | Test : 0.5164\n",
      "0.25835 0.21102 1.19462 -0.19283\n"
     ]
    },
    {
     "name": "stderr",
     "output_type": "stream",
     "text": [
      "[*********************100%%**********************]  1 of 1 completed\n"
     ]
    },
    {
     "name": "stdout",
     "output_type": "stream",
     "text": [
      "^BUK100P | Train : 0.6276 | Test : 0.5150\n",
      "0.00000 0.00000 nan 0.00000\n"
     ]
    },
    {
     "name": "stderr",
     "output_type": "stream",
     "text": [
      "[*********************100%%**********************]  1 of 1 completed\n"
     ]
    },
    {
     "name": "stdout",
     "output_type": "stream",
     "text": [
      "^RUT | Train : 0.5658 | Test : 0.5054\n",
      "0.07336 0.23795 0.41753 -0.41875\n"
     ]
    },
    {
     "name": "stderr",
     "output_type": "stream",
     "text": [
      "[*********************100%%**********************]  1 of 1 completed\n"
     ]
    },
    {
     "name": "stdout",
     "output_type": "stream",
     "text": [
      "^FTSE | Train : 0.5730 | Test : 0.5328\n",
      "0.06792 0.12860 0.57514 -0.13988\n"
     ]
    },
    {
     "name": "stderr",
     "output_type": "stream",
     "text": [
      "[*********************100%%**********************]  1 of 1 completed\n"
     ]
    },
    {
     "name": "stdout",
     "output_type": "stream",
     "text": [
      "^GDAXI | Train : 0.5433 | Test : 0.5324\n",
      "0.07441 0.18252 0.48490 -0.38779\n"
     ]
    },
    {
     "name": "stderr",
     "output_type": "stream",
     "text": [
      "[*********************100%%**********************]  1 of 1 completed\n"
     ]
    },
    {
     "name": "stdout",
     "output_type": "stream",
     "text": [
      "^FCHI | Train : 0.5976 | Test : 0.4949\n",
      "0.11045 0.15334 0.75966 -0.23040\n"
     ]
    },
    {
     "name": "stderr",
     "output_type": "stream",
     "text": [
      "[*********************100%%**********************]  1 of 1 completed\n"
     ]
    },
    {
     "name": "stdout",
     "output_type": "stream",
     "text": [
      "^STOXX50E | Train : 0.6355 | Test : 0.4594\n",
      "0.10652 0.09609 1.10153 -0.10220\n"
     ]
    },
    {
     "name": "stderr",
     "output_type": "stream",
     "text": [
      "[*********************100%%**********************]  1 of 1 completed\n"
     ]
    },
    {
     "name": "stdout",
     "output_type": "stream",
     "text": [
      "^N100 | Train : 0.5805 | Test : 0.4823\n",
      "0.14617 0.16952 0.88946 -0.20666\n"
     ]
    },
    {
     "name": "stderr",
     "output_type": "stream",
     "text": [
      "[*********************100%%**********************]  1 of 1 completed\n"
     ]
    },
    {
     "name": "stdout",
     "output_type": "stream",
     "text": [
      "^BFX | Train : 0.5807 | Test : 0.5210\n",
      "0.02271 0.17789 0.21625 -0.39767\n"
     ]
    },
    {
     "name": "stderr",
     "output_type": "stream",
     "text": [
      "[*********************100%%**********************]  1 of 1 completed\n"
     ]
    },
    {
     "name": "stdout",
     "output_type": "stream",
     "text": [
      "IMOEX.ME | Train : 0.5988 | Test : 0.5202\n",
      "0.23273 0.26879 0.90918 -0.31234\n"
     ]
    },
    {
     "name": "stderr",
     "output_type": "stream",
     "text": [
      "[*********************100%%**********************]  1 of 1 completed\n"
     ]
    },
    {
     "name": "stdout",
     "output_type": "stream",
     "text": [
      "^N225 | Train : 0.5942 | Test : 0.4712\n",
      "0.09013 0.16859 0.59611 -0.31269\n"
     ]
    },
    {
     "name": "stderr",
     "output_type": "stream",
     "text": [
      "[*********************100%%**********************]  1 of 1 completed\n"
     ]
    },
    {
     "name": "stdout",
     "output_type": "stream",
     "text": [
      "^HSI | Train : 0.5532 | Test : 0.4735\n",
      "-0.03642 0.18645 -0.10619 -0.52752\n"
     ]
    },
    {
     "name": "stderr",
     "output_type": "stream",
     "text": [
      "[*********************100%%**********************]  1 of 1 completed\n"
     ]
    },
    {
     "name": "stdout",
     "output_type": "stream",
     "text": [
      "000001.SS | Train : 0.6052 | Test : 0.5084\n",
      "0.03462 0.16555 0.28861 -0.22311\n"
     ]
    },
    {
     "name": "stderr",
     "output_type": "stream",
     "text": [
      "[*********************100%%**********************]  1 of 1 completed\n"
     ]
    },
    {
     "name": "stdout",
     "output_type": "stream",
     "text": [
      "399001.SZ | Train : 0.6096 | Test : 0.5089\n",
      "0.04941 0.21739 0.33098 -0.42632\n"
     ]
    },
    {
     "name": "stderr",
     "output_type": "stream",
     "text": [
      "[*********************100%%**********************]  1 of 1 completed\n"
     ]
    },
    {
     "name": "stdout",
     "output_type": "stream",
     "text": [
      "^STI | Train : 0.5997 | Test : 0.5018\n",
      "0.05815 0.10270 0.60151 -0.13790\n"
     ]
    },
    {
     "name": "stderr",
     "output_type": "stream",
     "text": [
      "[*********************100%%**********************]  1 of 1 completed\n"
     ]
    },
    {
     "name": "stdout",
     "output_type": "stream",
     "text": [
      "^AXJO | Train : 0.5506 | Test : 0.4827\n",
      "0.06224 0.11717 0.57399 -0.15671\n"
     ]
    },
    {
     "name": "stderr",
     "output_type": "stream",
     "text": [
      "[*********************100%%**********************]  1 of 1 completed\n"
     ]
    },
    {
     "name": "stdout",
     "output_type": "stream",
     "text": [
      "^AORD | Train : 0.5473 | Test : 0.4815\n",
      "0.06943 0.11756 0.62977 -0.16618\n"
     ]
    },
    {
     "name": "stderr",
     "output_type": "stream",
     "text": [
      "[*********************100%%**********************]  1 of 1 completed\n"
     ]
    },
    {
     "name": "stdout",
     "output_type": "stream",
     "text": [
      "^BSESN | Train : 0.5788 | Test : 0.4771\n",
      "0.22595 0.15303 1.40788 -0.16846\n"
     ]
    },
    {
     "name": "stderr",
     "output_type": "stream",
     "text": [
      "[*********************100%%**********************]  1 of 1 completed\n"
     ]
    },
    {
     "name": "stdout",
     "output_type": "stream",
     "text": [
      "^JKSE | Train : 0.5978 | Test : 0.5308\n",
      "0.10106 0.11802 0.87442 -0.10483\n"
     ]
    },
    {
     "name": "stderr",
     "output_type": "stream",
     "text": [
      "[*********************100%%**********************]  1 of 1 completed\n"
     ]
    },
    {
     "name": "stdout",
     "output_type": "stream",
     "text": [
      "^KLSE | Train : 0.6042 | Test : 0.4864\n",
      "0.03135 0.10099 0.35594 -0.18475\n"
     ]
    },
    {
     "name": "stderr",
     "output_type": "stream",
     "text": [
      "[*********************100%%**********************]  1 of 1 completed\n"
     ]
    },
    {
     "name": "stdout",
     "output_type": "stream",
     "text": [
      "^NZ50 | Train : 0.5655 | Test : 0.5166\n",
      "0.08607 0.12552 0.72026 -0.21906\n"
     ]
    },
    {
     "name": "stderr",
     "output_type": "stream",
     "text": [
      "[*********************100%%**********************]  1 of 1 completed\n"
     ]
    },
    {
     "name": "stdout",
     "output_type": "stream",
     "text": [
      "^KS11 | Train : 0.5632 | Test : 0.5556\n",
      "0.12399 0.16327 0.79722 -0.34785\n"
     ]
    },
    {
     "name": "stderr",
     "output_type": "stream",
     "text": [
      "[*********************100%%**********************]  1 of 1 completed\n"
     ]
    },
    {
     "name": "stdout",
     "output_type": "stream",
     "text": [
      "^TWII | Train : 0.6018 | Test : 0.5004\n",
      "0.15612 0.14797 1.05448 -0.31632\n"
     ]
    },
    {
     "name": "stderr",
     "output_type": "stream",
     "text": [
      "[*********************100%%**********************]  1 of 1 completed\n"
     ]
    },
    {
     "name": "stdout",
     "output_type": "stream",
     "text": [
      "^GSPTSE | Train : 0.5689 | Test : 0.4737\n",
      "0.09881 0.12005 0.84440 -0.17571\n"
     ]
    },
    {
     "name": "stderr",
     "output_type": "stream",
     "text": [
      "[*********************100%%**********************]  1 of 1 completed\n"
     ]
    },
    {
     "name": "stdout",
     "output_type": "stream",
     "text": [
      "^BVSP | Train : 0.5479 | Test : 0.5152\n",
      "0.11784 0.25185 0.56980 -0.46816\n"
     ]
    },
    {
     "name": "stderr",
     "output_type": "stream",
     "text": [
      "[*********************100%%**********************]  1 of 1 completed\n"
     ]
    },
    {
     "name": "stdout",
     "output_type": "stream",
     "text": [
      "^MXX | Train : 0.5807 | Test : 0.5051\n",
      "0.09312 0.13195 0.74080 -0.21167\n"
     ]
    },
    {
     "name": "stderr",
     "output_type": "stream",
     "text": [
      "[*********************100%%**********************]  1 of 1 completed\n"
     ]
    },
    {
     "name": "stdout",
     "output_type": "stream",
     "text": [
      "^MERV | Train : 0.5709 | Test : 0.4780\n",
      "0.96973 8.46006 0.51231 -0.95102\n"
     ]
    },
    {
     "name": "stderr",
     "output_type": "stream",
     "text": [
      "[*********************100%%**********************]  1 of 1 completed\n"
     ]
    },
    {
     "name": "stdout",
     "output_type": "stream",
     "text": [
      "^TA125.TA | Train : 0.6074 | Test : 0.4718\n",
      "0.11120 0.15773 0.74739 -0.25265\n"
     ]
    },
    {
     "name": "stderr",
     "output_type": "stream",
     "text": [
      "[*********************100%%**********************]  1 of 1 completed\n"
     ]
    },
    {
     "name": "stdout",
     "output_type": "stream",
     "text": [
      "^JN0U.JO | Train : 0.7219 | Test : 0.5182\n",
      "0.00000 0.00000 nan 0.00000\n"
     ]
    },
    {
     "name": "stderr",
     "output_type": "stream",
     "text": [
      "[*********************100%%**********************]  1 of 1 completed\n"
     ]
    },
    {
     "name": "stdout",
     "output_type": "stream",
     "text": [
      "^SET.BK | Train : 0.6054 | Test : 0.5051\n",
      "0.06577 0.12097 0.58689 -0.20735\n"
     ]
    },
    {
     "name": "stderr",
     "output_type": "stream",
     "text": [
      "[*********************100%%**********************]  1 of 1 completed\n"
     ]
    },
    {
     "name": "stdout",
     "output_type": "stream",
     "text": [
      "TDEX.BK | Train : 0.6700 | Test : 0.4878\n",
      "0.00000 0.00000 nan 0.00000\n"
     ]
    }
   ],
   "source": [
    "import empyrical as ep\n",
    "import matplotlib.pyplot as plt\n",
    "import numpy as np\n",
    "import pandas as pd\n",
    "import pandas_ta as ta\n",
    "import pyfolio as pf\n",
    "import plotly.graph_objects as go\n",
    "import plotly.express as px\n",
    "import seaborn as sns\n",
    "import yfinance as yf\n",
    "\n",
    "import datetime\n",
    "import warnings\n",
    "import pytz\n",
    "\n",
    "from sklearn.metrics import confusion_matrix, ConfusionMatrixDisplay, accuracy_score\n",
    "from sklearn.model_selection import train_test_split, cross_val_score, GridSearchCV\n",
    "from sklearn.ensemble import RandomForestClassifier, VotingClassifier\n",
    "from sklearn.pipeline import Pipeline\n",
    "from sklearn.preprocessing import MinMaxScaler\n",
    "from sklearn.neighbors import KNeighborsClassifier\n",
    "\n",
    "from xgboost import XGBClassifier\n",
    "\n",
    "plt.style.use(\"tableau-colorblind10\")\n",
    "# Disable future warnings\n",
    "warnings.simplefilter(action='ignore', category=FutureWarning)\n",
    "warnings.simplefilter(action='ignore', category=RuntimeWarning)\n",
    "warnings.simplefilter(action='ignore', category=pd.errors.SettingWithCopyWarning)\n",
    "\n",
    "yf.pdr_override()\n",
    "\n",
    "startDate = \"1990-01-01\"\n",
    "endDate = \"2024-01-01\"\n",
    "\n",
    "# Define tickers\n",
    "\n",
    "tickers = {\n",
    "    \"^GSPC\": \"S&P 500\",\n",
    "    \"^DJI\": \"Dow Jones Industrial Average\",\n",
    "    \"^IXIC\": \"NASDAQ Composite\",\n",
    "    \"^NYA\": \"NYSE COMPOSITE (DJ)\",\n",
    "    \"^XAX\": \"NYSE AMEX COMPOSITE INDEX\",\n",
    "    \"^BUK100P\": \"Cboe UK 100\",\n",
    "    \"^RUT\": \"Russell 2000\",\n",
    "    \"^FTSE\": \"FTSE 100\",\n",
    "    \"^GDAXI\": \"DAX PERFORMANCE-INDEX\",\n",
    "    \"^FCHI\": \"CAC 40\",\n",
    "    \"^STOXX50E\": \"ESTX 50 PR.EUR\",\n",
    "    \"^N100\": \"Euronext 100 Index\",\n",
    "    \"^BFX\": \"BEL 20\",\n",
    "    \"IMOEX.ME\": \"MOEX Russia Index\",\n",
    "    \"^N225\": \"Nikkei 225\",\n",
    "    \"^HSI\": \"HANG SENG INDEX\",\n",
    "    \"000001.SS\": \"SSE Composite Index\",\n",
    "    \"399001.SZ\": \"Shenzhen Index\",\n",
    "    \"^STI\": \"STI Index\",\n",
    "    \"^AXJO\": \"S&P/ASX 200\",\n",
    "    \"^AORD\": \"ALL ORDINARIES\",\n",
    "    \"^BSESN\": \"S&P BSE SENSEX\",\n",
    "    \"^JKSE\": \"IDX COMPOSITE\",\n",
    "    \"^KLSE\": \"FTSE Bursa Malaysia KLCI\",\n",
    "    \"^NZ50\": \"S&P/NZX 50 INDEX GROSS (GROSS)\",\n",
    "    \"^KS11\": \"KOSPI Composite Index\",\n",
    "    \"^TWII\": \"TSEC weighted index\",\n",
    "    \"^GSPTSE\": \"S&P/TSX Composite index\",\n",
    "    \"^BVSP\": \"IBOVESPA\",\n",
    "    \"^MXX\": \"IPC MEXICO\",\n",
    "    \"^MERV\": \"MERVAL\",\n",
    "    \"^TA125.TA\": \"TA-125\",\n",
    "    \"^JN0U.JO\": \"Top 40 USD Net TRI Index\",\n",
    "    \"^SET.BK\": \"Stock Exchange of Thailand\",\n",
    "    \"TDEX.BK\": \"ThaiDEX SET50\"\n",
    "}\n",
    "\n",
    "all_data = pd.DataFrame()\n",
    "\n",
    "showModelScores = False\n",
    "gridSearch = False\n",
    "cvTest = False\n",
    "\n",
    "def fetch_data(ticker, start, end):\n",
    "    df = yf.download(ticker, start=start, end=end)\n",
    "    df.index = pd.to_datetime(df.index)  # Ensure index is datetime\n",
    "    return df\n",
    "\n",
    "def detect_trends(df, max_drawdown=20):\n",
    "    trends = np.empty((0, 3), np.datetime64)\n",
    "    x = len(df)\n",
    "    trend = ''\n",
    "    Peak = -np.inf\n",
    "    date_Peak = None\n",
    "    Trough = np.inf\n",
    "    date_Trough = None\n",
    "\n",
    "    for i in range(x):\n",
    "        up = 0\n",
    "        dn = 0\n",
    "        if trend == '' or trend == 'bull':\n",
    "            if df.iloc[i]['Close'] >= Peak:\n",
    "                Peak = df.iloc[i]['Close']\n",
    "                date_Peak = df.index[i]\n",
    "        if trend == '' or trend == 'bear':\n",
    "            if df.iloc[i]['Close'] <= Trough:\n",
    "                Trough = df.iloc[i]['Close']\n",
    "                date_Trough = df.index[i]\n",
    "        if Peak != -np.inf:\n",
    "            dn = (Peak - df.iloc[i]['Close']) / (Peak / 100.0)\n",
    "        if Trough != np.inf:\n",
    "            up = (df.iloc[i]['Close'] - Trough) / (Trough / 100.0)\n",
    "\n",
    "        if up >= max_drawdown:\n",
    "            trend = 'bull'\n",
    "            trends = np.append(trends, np.array([[date_Trough, df.index[i], 1]]), axis=0)\n",
    "            Trough = np.inf\n",
    "            Peak = df.iloc[i]['Close']\n",
    "            date_Peak = df.index[i]\n",
    "        if dn >= max_drawdown:\n",
    "            trend = 'bear'\n",
    "            trends = np.append(trends, np.array([[date_Peak, df.index[i], 2]]), axis=0)\n",
    "            Peak = -np.inf\n",
    "            Trough = df.iloc[i]['Close']\n",
    "            date_Trough = df.index[i]\n",
    "\n",
    "    return trends\n",
    "\n",
    "def label_trends(df, trends):\n",
    "    df['Trend'] = 0  # Initialize trend column with 0\n",
    "    for trend in trends:\n",
    "        start_date = trend[0]\n",
    "        end_date = trend[1]\n",
    "        trend_type = trend[2]\n",
    "        df.loc[(df.index >= start_date) & (df.index <= end_date), 'Trend'] = trend_type\n",
    "\n",
    "    return df\n",
    "\n",
    "for ticker in tickers:\n",
    "    \n",
    "    dft = yf.Ticker(ticker)\n",
    "    timeZone = dft.info.get(\"timeZoneFullName\")\n",
    "    tickerName = dft.info.get(\"longName\", \"Unknown Ticker\")\n",
    "    \n",
    "    df = fetch_data(ticker, startDate, endDate)\n",
    "    \n",
    "    df['MACD'] = ta.macd(df['Close'], fast=12, slow=26, signal=9)['MACD_12_26_9']\n",
    "    df['Pct_Change'] = df['Close'].pct_change() * 100\n",
    "\n",
    "    delta = df['Close'].diff()\n",
    "    gain = (delta.where(delta > 0, 0)).rolling(window=14).mean()\n",
    "    loss = (-delta.where(delta < 0, 0)).rolling(window=14).mean()\n",
    "    rs = gain / loss\n",
    "    df['RSI'] = 100 - (100 / (1 + rs))\n",
    "\n",
    "    avg_gain = gain.ewm(span=14, min_periods=14).mean()\n",
    "    avg_loss = loss.ewm(span=14, min_periods=14).mean()\n",
    "    rs = avg_gain / avg_loss\n",
    "    df['RSI_EMA'] = 100 - (100 / (1 + rs))\n",
    "\n",
    "    df['RSI_ta'] = ta.rsi(df['Close'], length=14)\n",
    "    df['MA10'] = df.ta.sma(length=10)\n",
    "    df['MA50'] = df.ta.sma(length=50)\n",
    "    df['MA200'] = df.ta.sma(length=200)\n",
    "\n",
    "    window = 20\n",
    "    df['MA20'] = df['Close'].rolling(window=window).mean()\n",
    "    df['std_dev'] = df['Close'].rolling(window=window).std()\n",
    "    df['Upper_BB'] = df['MA20'] + (df['std_dev'] * 2)\n",
    "    df['Lower_BB'] = df['MA20'] - (df['std_dev'] * 2)\n",
    "    \n",
    "    df['Target'] = (df['Close'].shift(-1) > df['Close']).astype(int)\n",
    "    \n",
    "    df = df.dropna()\n",
    "    \n",
    "    trends = detect_trends(df)\n",
    "    df = label_trends(df, trends)\n",
    "        \n",
    "    vix = yf.Ticker(\"^VIX\")\n",
    "    vix_df = vix.history(interval=\"1d\", start=startDate, end=endDate)\n",
    "    \n",
    "    # Calculate percentage change for VIX\n",
    "    # Convert vix_df index timezone to match df\n",
    "    stock_timezone = pytz.timezone(timeZone)\n",
    "    vix_df.index = vix_df.index.tz_convert(stock_timezone)\n",
    "    vix_df.index = vix_df.index.tz_localize(None)  # Convert to naive timezone\n",
    "\n",
    "    # Ensure matching datetime indices and reindex vix_df\n",
    "    vix_df = vix_df.reindex(df.index, method='ffill')\n",
    "\n",
    "    # Merge VIX close prices into the original DataFrame\n",
    "    df['VIX'] = vix_df['Close']\n",
    "    \n",
    "    X = df[['Pct_Change', 'std_dev', 'MA200', 'MA50', 'MA10', 'MACD', 'RSI_ta', 'VIX']]\n",
    "    y = df['Target']\n",
    "\n",
    "    X_train, X_test, y_train, y_test = train_test_split(X, y, test_size=0.2, shuffle=False)\n",
    "\n",
    "    rf = RandomForestClassifier(n_estimators=100, max_depth=5, random_state=42)\n",
    "    xgb = XGBClassifier(objective='binary:logistic', colsample_bytree=0.8, gamma=0.1, learning_rate=0.001, max_depth=3, n_estimators=100, reg_alpha=0.1, reg_lambda=0.1, subsample=0.8)\n",
    "    \n",
    "    rf.fit(X_train, y_train)\n",
    "    xgb.fit(X_train, y_train)\n",
    "    \n",
    "    model = VotingClassifier(estimators=[('rf', rf), ('xgb', xgb)], voting='soft')\n",
    "    model.fit(X_train, y_train)\n",
    "\n",
    "    if showModelScores:\n",
    "        y_pred = model.predict(X_test)\n",
    "        acc = accuracy_score(y_test, y_pred)\n",
    "        print(f\"Accuracy of the model: {acc:.4f}\")\n",
    "\n",
    "        cm = confusion_matrix(y_test, y_pred)\n",
    "        disp = ConfusionMatrixDisplay(confusion_matrix=cm)\n",
    "        disp.plot()\n",
    "        plt.show()\n",
    "\n",
    "    test_data = df[len(X_train):]\n",
    "    test_data = test_data.copy()\n",
    "    test_data['Predict'] = model.predict(X_test)\n",
    "    \n",
    "    df['Predict'] = 0\n",
    "    \n",
    "    df.loc[X_test.index, 'Predict'] = model.predict(X_test)\n",
    "    \n",
    "    df['Position'] = 0\n",
    "    \n",
    "    start_idx = df.index.get_loc(X_test.index[0])\n",
    "\n",
    "    holding_position = False\n",
    "    for i in range(start_idx, len(df)):\n",
    "        if df.loc[df.index[i], 'Trend'] == 1 and df.loc[df.index[i], 'Predict'] == 1 and not holding_position:\n",
    "            df.loc[df.index[i], 'Position'] = 1\n",
    "            holding_position = True\n",
    "        elif df.loc[df.index[i], 'Trend'] == 2 or df.loc[df.index[i], 'Predict'] == 0 and holding_position:\n",
    "            df.loc[df.index[i], 'Position'] = 0\n",
    "            holding_position = False\n",
    "\n",
    "    \n",
    "    df.loc[df['Position'] == 0, 'Position'] = np.nan\n",
    "    df['Position'] = df['Position'].fillna(method='ffill')\n",
    "    df['Position'] = df['Position'].fillna(0).astype(int)\n",
    "\n",
    "    df_test_period = df.loc[X_test.index[0]:]\n",
    "    df_test_period = df_test_period.copy()\n",
    "    df_test_period['Strategy_Returns'] = df_test_period['Position'].shift(1) * df_test_period['Close'].pct_change()\n",
    "    df_test_period.dropna(subset=['Strategy_Returns'], inplace=True)\n",
    "\n",
    "    returns = df_test_period['Strategy_Returns']\n",
    "    \n",
    "    cumulative_returns = (1 + returns).cumprod() - 1\n",
    "    perf_stats = {\n",
    "        'Annual Return': ep.annual_return(returns),\n",
    "        'Cumulative Returns': ep.cum_returns_final(returns),\n",
    "        'Annual Volatility': ep.annual_volatility(returns),\n",
    "        'Sharpe Ratio': ep.sharpe_ratio(returns),\n",
    "        'Sortino Ratio': ep.sortino_ratio(returns),\n",
    "        'Max Drawdown': ep.max_drawdown(returns),\n",
    "        'Calmar Ratio': ep.calmar_ratio(returns)\n",
    "    }\n",
    "    \n",
    "    perf_df = pd.DataFrame(perf_stats, index=[ticker])\n",
    "    \n",
    "    perf_df['Index Name'] = tickerName\n",
    "    \n",
    "    perf_df['1_Train'] = model.score(X_train,y_train)\n",
    "    perf_df['1_Test'] = model.score(X_test,y_test)\n",
    "    \n",
    "    perf_df['Test Date'] = str(X_test.index[0])\n",
    "    \n",
    "    perf_df = perf_df[['Index Name'] + [col for col in perf_df.columns if col != 'Index Name']]\n",
    "    \n",
    "    # Append to all_data DataFrame\n",
    "    all_data = pd.concat([all_data, perf_df])\n",
    "    \n",
    "    print(f\"{ticker} | Train : {model.score(X_train, y_train):.4f} | Test : {model.score(X_test, y_test):.4f}\")\n",
    "    print(f\"{ep.annual_return(returns):.5f} {ep.annual_volatility(returns):.5f} {ep.sharpe_ratio(returns):.5f} {ep.max_drawdown(returns):.5f}\")\n"
   ]
  },
  {
   "cell_type": "code",
   "execution_count": 2,
   "metadata": {},
   "outputs": [],
   "source": [
    "all_data.dropna(inplace=True)"
   ]
  },
  {
   "cell_type": "code",
   "execution_count": 3,
   "metadata": {},
   "outputs": [
    {
     "data": {
      "text/html": [
       "<div>\n",
       "<style scoped>\n",
       "    .dataframe tbody tr th:only-of-type {\n",
       "        vertical-align: middle;\n",
       "    }\n",
       "\n",
       "    .dataframe tbody tr th {\n",
       "        vertical-align: top;\n",
       "    }\n",
       "\n",
       "    .dataframe thead th {\n",
       "        text-align: right;\n",
       "    }\n",
       "</style>\n",
       "<table border=\"1\" class=\"dataframe\">\n",
       "  <thead>\n",
       "    <tr style=\"text-align: right;\">\n",
       "      <th></th>\n",
       "      <th>Index Name</th>\n",
       "      <th>Annual Return</th>\n",
       "      <th>Cumulative Returns</th>\n",
       "      <th>Annual Volatility</th>\n",
       "      <th>Sharpe Ratio</th>\n",
       "      <th>Sortino Ratio</th>\n",
       "      <th>Max Drawdown</th>\n",
       "      <th>Calmar Ratio</th>\n",
       "      <th>1_Train</th>\n",
       "      <th>1_Test</th>\n",
       "      <th>Test Date</th>\n",
       "    </tr>\n",
       "  </thead>\n",
       "  <tbody>\n",
       "    <tr>\n",
       "      <th>^GSPC</th>\n",
       "      <td>S&amp;P 500</td>\n",
       "      <td>0.120780</td>\n",
       "      <td>1.131863</td>\n",
       "      <td>0.148948</td>\n",
       "      <td>0.839839</td>\n",
       "      <td>1.269630</td>\n",
       "      <td>-0.254251</td>\n",
       "      <td>0.475041</td>\n",
       "      <td>0.561118</td>\n",
       "      <td>0.540024</td>\n",
       "      <td>2017-05-08 00:00:00</td>\n",
       "    </tr>\n",
       "    <tr>\n",
       "      <th>^DJI</th>\n",
       "      <td>Dow Jones Industrial Average</td>\n",
       "      <td>0.120027</td>\n",
       "      <td>1.027199</td>\n",
       "      <td>0.145416</td>\n",
       "      <td>0.851773</td>\n",
       "      <td>1.328321</td>\n",
       "      <td>-0.219408</td>\n",
       "      <td>0.547049</td>\n",
       "      <td>0.548982</td>\n",
       "      <td>0.547074</td>\n",
       "      <td>2017-10-02 00:00:00</td>\n",
       "    </tr>\n",
       "    <tr>\n",
       "      <th>^IXIC</th>\n",
       "      <td>NASDAQ Composite</td>\n",
       "      <td>0.142668</td>\n",
       "      <td>1.423953</td>\n",
       "      <td>0.219270</td>\n",
       "      <td>0.718443</td>\n",
       "      <td>1.012693</td>\n",
       "      <td>-0.363953</td>\n",
       "      <td>0.391995</td>\n",
       "      <td>0.558129</td>\n",
       "      <td>0.554958</td>\n",
       "      <td>2017-05-08 00:00:00</td>\n",
       "    </tr>\n",
       "    <tr>\n",
       "      <th>^NYA</th>\n",
       "      <td>NYSE COMPOSITE (DJ)</td>\n",
       "      <td>0.069774</td>\n",
       "      <td>0.564824</td>\n",
       "      <td>0.177647</td>\n",
       "      <td>0.469175</td>\n",
       "      <td>0.646793</td>\n",
       "      <td>-0.381142</td>\n",
       "      <td>0.183064</td>\n",
       "      <td>0.556485</td>\n",
       "      <td>0.508961</td>\n",
       "      <td>2017-05-08 00:00:00</td>\n",
       "    </tr>\n",
       "    <tr>\n",
       "      <th>^XAX</th>\n",
       "      <td>NYSE AMEX COMPOSITE INDEX</td>\n",
       "      <td>0.258345</td>\n",
       "      <td>2.487891</td>\n",
       "      <td>0.211023</td>\n",
       "      <td>1.194617</td>\n",
       "      <td>1.832885</td>\n",
       "      <td>-0.192832</td>\n",
       "      <td>1.339741</td>\n",
       "      <td>0.588579</td>\n",
       "      <td>0.516411</td>\n",
       "      <td>2018-07-20 00:00:00</td>\n",
       "    </tr>\n",
       "    <tr>\n",
       "      <th>^RUT</th>\n",
       "      <td>Russell 2000</td>\n",
       "      <td>0.073362</td>\n",
       "      <td>0.599998</td>\n",
       "      <td>0.237948</td>\n",
       "      <td>0.417525</td>\n",
       "      <td>0.581867</td>\n",
       "      <td>-0.418749</td>\n",
       "      <td>0.175192</td>\n",
       "      <td>0.565750</td>\n",
       "      <td>0.505376</td>\n",
       "      <td>2017-05-08 00:00:00</td>\n",
       "    </tr>\n",
       "    <tr>\n",
       "      <th>^FTSE</th>\n",
       "      <td>FTSE 100</td>\n",
       "      <td>0.067920</td>\n",
       "      <td>0.548529</td>\n",
       "      <td>0.128597</td>\n",
       "      <td>0.575142</td>\n",
       "      <td>0.846501</td>\n",
       "      <td>-0.139876</td>\n",
       "      <td>0.485575</td>\n",
       "      <td>0.572962</td>\n",
       "      <td>0.532777</td>\n",
       "      <td>2017-05-09 00:00:00</td>\n",
       "    </tr>\n",
       "    <tr>\n",
       "      <th>^GDAXI</th>\n",
       "      <td>DAX PERFORMANCE-INDEX</td>\n",
       "      <td>0.074409</td>\n",
       "      <td>0.613604</td>\n",
       "      <td>0.182517</td>\n",
       "      <td>0.484898</td>\n",
       "      <td>0.674283</td>\n",
       "      <td>-0.387794</td>\n",
       "      <td>0.191877</td>\n",
       "      <td>0.543304</td>\n",
       "      <td>0.532421</td>\n",
       "      <td>2017-05-17 00:00:00</td>\n",
       "    </tr>\n",
       "    <tr>\n",
       "      <th>^FCHI</th>\n",
       "      <td>CAC 40</td>\n",
       "      <td>0.110449</td>\n",
       "      <td>1.008922</td>\n",
       "      <td>0.153340</td>\n",
       "      <td>0.759661</td>\n",
       "      <td>1.147428</td>\n",
       "      <td>-0.230398</td>\n",
       "      <td>0.479384</td>\n",
       "      <td>0.597586</td>\n",
       "      <td>0.494937</td>\n",
       "      <td>2017-06-13 00:00:00</td>\n",
       "    </tr>\n",
       "    <tr>\n",
       "      <th>^STOXX50E</th>\n",
       "      <td>ESTX 50 PR.EUR</td>\n",
       "      <td>0.106518</td>\n",
       "      <td>0.378955</td>\n",
       "      <td>0.096090</td>\n",
       "      <td>1.101531</td>\n",
       "      <td>1.670442</td>\n",
       "      <td>-0.102196</td>\n",
       "      <td>1.042287</td>\n",
       "      <td>0.635540</td>\n",
       "      <td>0.459426</td>\n",
       "      <td>2020-10-30 00:00:00</td>\n",
       "    </tr>\n",
       "    <tr>\n",
       "      <th>^N100</th>\n",
       "      <td>Euronext 100 Index</td>\n",
       "      <td>0.146170</td>\n",
       "      <td>0.901435</td>\n",
       "      <td>0.169520</td>\n",
       "      <td>0.889459</td>\n",
       "      <td>1.322688</td>\n",
       "      <td>-0.206658</td>\n",
       "      <td>0.707303</td>\n",
       "      <td>0.580509</td>\n",
       "      <td>0.482323</td>\n",
       "      <td>2019-05-17 00:00:00</td>\n",
       "    </tr>\n",
       "    <tr>\n",
       "      <th>^BFX</th>\n",
       "      <td>BEL 20</td>\n",
       "      <td>0.022714</td>\n",
       "      <td>0.155428</td>\n",
       "      <td>0.177894</td>\n",
       "      <td>0.216252</td>\n",
       "      <td>0.290026</td>\n",
       "      <td>-0.397670</td>\n",
       "      <td>0.057117</td>\n",
       "      <td>0.580660</td>\n",
       "      <td>0.520962</td>\n",
       "      <td>2017-08-30 00:00:00</td>\n",
       "    </tr>\n",
       "    <tr>\n",
       "      <th>IMOEX.ME</th>\n",
       "      <td>Unknown Ticker</td>\n",
       "      <td>0.232725</td>\n",
       "      <td>0.505797</td>\n",
       "      <td>0.268790</td>\n",
       "      <td>0.909182</td>\n",
       "      <td>1.475507</td>\n",
       "      <td>-0.312345</td>\n",
       "      <td>0.745092</td>\n",
       "      <td>0.598784</td>\n",
       "      <td>0.520243</td>\n",
       "      <td>2021-12-22 00:00:00</td>\n",
       "    </tr>\n",
       "    <tr>\n",
       "      <th>^N225</th>\n",
       "      <td>Nikkei 225</td>\n",
       "      <td>0.090134</td>\n",
       "      <td>0.746953</td>\n",
       "      <td>0.168589</td>\n",
       "      <td>0.596115</td>\n",
       "      <td>0.872482</td>\n",
       "      <td>-0.312690</td>\n",
       "      <td>0.288254</td>\n",
       "      <td>0.594201</td>\n",
       "      <td>0.471166</td>\n",
       "      <td>2017-05-01 00:00:00</td>\n",
       "    </tr>\n",
       "    <tr>\n",
       "      <th>^HSI</th>\n",
       "      <td>HANG SENG INDEX</td>\n",
       "      <td>-0.036418</td>\n",
       "      <td>-0.214266</td>\n",
       "      <td>0.186448</td>\n",
       "      <td>-0.106185</td>\n",
       "      <td>-0.156037</td>\n",
       "      <td>-0.527520</td>\n",
       "      <td>-0.069037</td>\n",
       "      <td>0.553166</td>\n",
       "      <td>0.473459</td>\n",
       "      <td>2017-05-09 00:00:00</td>\n",
       "    </tr>\n",
       "    <tr>\n",
       "      <th>000001.SS</th>\n",
       "      <td>SSE Composite Index</td>\n",
       "      <td>0.034618</td>\n",
       "      <td>0.182939</td>\n",
       "      <td>0.165552</td>\n",
       "      <td>0.288612</td>\n",
       "      <td>0.399471</td>\n",
       "      <td>-0.223111</td>\n",
       "      <td>0.155162</td>\n",
       "      <td>0.605184</td>\n",
       "      <td>0.508434</td>\n",
       "      <td>2018-11-14 00:00:00</td>\n",
       "    </tr>\n",
       "    <tr>\n",
       "      <th>399001.SZ</th>\n",
       "      <td>Shenzhen Index</td>\n",
       "      <td>0.049412</td>\n",
       "      <td>0.267122</td>\n",
       "      <td>0.217395</td>\n",
       "      <td>0.330985</td>\n",
       "      <td>0.462392</td>\n",
       "      <td>-0.426318</td>\n",
       "      <td>0.115904</td>\n",
       "      <td>0.609574</td>\n",
       "      <td>0.508885</td>\n",
       "      <td>2018-11-23 00:00:00</td>\n",
       "    </tr>\n",
       "    <tr>\n",
       "      <th>^STI</th>\n",
       "      <td>STI Index</td>\n",
       "      <td>0.058149</td>\n",
       "      <td>0.450772</td>\n",
       "      <td>0.102700</td>\n",
       "      <td>0.601509</td>\n",
       "      <td>0.929446</td>\n",
       "      <td>-0.137898</td>\n",
       "      <td>0.421679</td>\n",
       "      <td>0.599669</td>\n",
       "      <td>0.501807</td>\n",
       "      <td>2017-05-18 00:00:00</td>\n",
       "    </tr>\n",
       "    <tr>\n",
       "      <th>^AXJO</th>\n",
       "      <td>S&amp;P/ASX 200</td>\n",
       "      <td>0.062240</td>\n",
       "      <td>0.443502</td>\n",
       "      <td>0.117167</td>\n",
       "      <td>0.573990</td>\n",
       "      <td>0.813708</td>\n",
       "      <td>-0.156707</td>\n",
       "      <td>0.397176</td>\n",
       "      <td>0.550571</td>\n",
       "      <td>0.482714</td>\n",
       "      <td>2017-12-06 00:00:00</td>\n",
       "    </tr>\n",
       "    <tr>\n",
       "      <th>^AORD</th>\n",
       "      <td>ALL ORDINARIES</td>\n",
       "      <td>0.069427</td>\n",
       "      <td>0.563961</td>\n",
       "      <td>0.117559</td>\n",
       "      <td>0.629769</td>\n",
       "      <td>0.909276</td>\n",
       "      <td>-0.166183</td>\n",
       "      <td>0.417775</td>\n",
       "      <td>0.547321</td>\n",
       "      <td>0.481548</td>\n",
       "      <td>2017-05-12 00:00:00</td>\n",
       "    </tr>\n",
       "    <tr>\n",
       "      <th>^BSESN</th>\n",
       "      <td>S&amp;P BSE SENSEX</td>\n",
       "      <td>0.225950</td>\n",
       "      <td>1.780478</td>\n",
       "      <td>0.153033</td>\n",
       "      <td>1.407883</td>\n",
       "      <td>2.167859</td>\n",
       "      <td>-0.168462</td>\n",
       "      <td>1.341251</td>\n",
       "      <td>0.578791</td>\n",
       "      <td>0.477093</td>\n",
       "      <td>2018-11-07 00:00:00</td>\n",
       "    </tr>\n",
       "    <tr>\n",
       "      <th>^JKSE</th>\n",
       "      <td>IDX COMPOSITE</td>\n",
       "      <td>0.101062</td>\n",
       "      <td>0.846998</td>\n",
       "      <td>0.118021</td>\n",
       "      <td>0.874420</td>\n",
       "      <td>1.378796</td>\n",
       "      <td>-0.104833</td>\n",
       "      <td>0.964027</td>\n",
       "      <td>0.597821</td>\n",
       "      <td>0.530803</td>\n",
       "      <td>2017-05-19 00:00:00</td>\n",
       "    </tr>\n",
       "    <tr>\n",
       "      <th>^KLSE</th>\n",
       "      <td>FTSE Bursa Malaysia KLCI</td>\n",
       "      <td>0.031351</td>\n",
       "      <td>0.192618</td>\n",
       "      <td>0.100986</td>\n",
       "      <td>0.355938</td>\n",
       "      <td>0.544287</td>\n",
       "      <td>-0.184746</td>\n",
       "      <td>0.169696</td>\n",
       "      <td>0.604207</td>\n",
       "      <td>0.486449</td>\n",
       "      <td>2018-02-09 00:00:00</td>\n",
       "    </tr>\n",
       "    <tr>\n",
       "      <th>^NZ50</th>\n",
       "      <td>S&amp;P/NZX 50 INDEX GROSS ( GROSS</td>\n",
       "      <td>0.086072</td>\n",
       "      <td>0.384975</td>\n",
       "      <td>0.125522</td>\n",
       "      <td>0.720256</td>\n",
       "      <td>1.137934</td>\n",
       "      <td>-0.219055</td>\n",
       "      <td>0.392923</td>\n",
       "      <td>0.565469</td>\n",
       "      <td>0.516583</td>\n",
       "      <td>2020-01-09 00:00:00</td>\n",
       "    </tr>\n",
       "    <tr>\n",
       "      <th>^KS11</th>\n",
       "      <td>KOSPI Composite Index</td>\n",
       "      <td>0.123990</td>\n",
       "      <td>0.821629</td>\n",
       "      <td>0.163268</td>\n",
       "      <td>0.797216</td>\n",
       "      <td>1.218173</td>\n",
       "      <td>-0.347851</td>\n",
       "      <td>0.356446</td>\n",
       "      <td>0.563201</td>\n",
       "      <td>0.555641</td>\n",
       "      <td>2018-09-28 00:00:00</td>\n",
       "    </tr>\n",
       "    <tr>\n",
       "      <th>^TWII</th>\n",
       "      <td>TSEC weighted index</td>\n",
       "      <td>0.156119</td>\n",
       "      <td>1.065443</td>\n",
       "      <td>0.147974</td>\n",
       "      <td>1.054485</td>\n",
       "      <td>1.567837</td>\n",
       "      <td>-0.316319</td>\n",
       "      <td>0.493551</td>\n",
       "      <td>0.601824</td>\n",
       "      <td>0.500397</td>\n",
       "      <td>2018-10-25 00:00:00</td>\n",
       "    </tr>\n",
       "    <tr>\n",
       "      <th>^GSPTSE</th>\n",
       "      <td>S&amp;P/TSX Composite index</td>\n",
       "      <td>0.098812</td>\n",
       "      <td>0.866536</td>\n",
       "      <td>0.120055</td>\n",
       "      <td>0.844404</td>\n",
       "      <td>1.320820</td>\n",
       "      <td>-0.175708</td>\n",
       "      <td>0.562365</td>\n",
       "      <td>0.568883</td>\n",
       "      <td>0.473653</td>\n",
       "      <td>2017-05-04 00:00:00</td>\n",
       "    </tr>\n",
       "    <tr>\n",
       "      <th>^BVSP</th>\n",
       "      <td>IBOVESPA</td>\n",
       "      <td>0.117842</td>\n",
       "      <td>0.922008</td>\n",
       "      <td>0.251853</td>\n",
       "      <td>0.569805</td>\n",
       "      <td>0.782346</td>\n",
       "      <td>-0.468158</td>\n",
       "      <td>0.251714</td>\n",
       "      <td>0.547929</td>\n",
       "      <td>0.515213</td>\n",
       "      <td>2018-01-11 00:00:00</td>\n",
       "    </tr>\n",
       "    <tr>\n",
       "      <th>^MXX</th>\n",
       "      <td>IPC MEXICO</td>\n",
       "      <td>0.093125</td>\n",
       "      <td>0.740865</td>\n",
       "      <td>0.131945</td>\n",
       "      <td>0.740804</td>\n",
       "      <td>1.112210</td>\n",
       "      <td>-0.211673</td>\n",
       "      <td>0.439945</td>\n",
       "      <td>0.580732</td>\n",
       "      <td>0.505096</td>\n",
       "      <td>2017-10-03 00:00:00</td>\n",
       "    </tr>\n",
       "    <tr>\n",
       "      <th>^MERV</th>\n",
       "      <td>Unknown Ticker</td>\n",
       "      <td>0.969730</td>\n",
       "      <td>31.316062</td>\n",
       "      <td>8.460057</td>\n",
       "      <td>0.512306</td>\n",
       "      <td>8.094660</td>\n",
       "      <td>-0.951024</td>\n",
       "      <td>1.019669</td>\n",
       "      <td>0.570876</td>\n",
       "      <td>0.477958</td>\n",
       "      <td>2018-09-04 00:00:00</td>\n",
       "    </tr>\n",
       "    <tr>\n",
       "      <th>^TA125.TA</th>\n",
       "      <td>TA-125</td>\n",
       "      <td>0.111202</td>\n",
       "      <td>0.706298</td>\n",
       "      <td>0.157734</td>\n",
       "      <td>0.747394</td>\n",
       "      <td>1.093565</td>\n",
       "      <td>-0.252648</td>\n",
       "      <td>0.440146</td>\n",
       "      <td>0.607436</td>\n",
       "      <td>0.471831</td>\n",
       "      <td>2018-10-07 00:00:00</td>\n",
       "    </tr>\n",
       "    <tr>\n",
       "      <th>^SET.BK</th>\n",
       "      <td>SET_SET Index</td>\n",
       "      <td>0.065774</td>\n",
       "      <td>0.382045</td>\n",
       "      <td>0.120973</td>\n",
       "      <td>0.586892</td>\n",
       "      <td>0.889116</td>\n",
       "      <td>-0.207349</td>\n",
       "      <td>0.317217</td>\n",
       "      <td>0.605386</td>\n",
       "      <td>0.505074</td>\n",
       "      <td>2018-09-13 00:00:00</td>\n",
       "    </tr>\n",
       "  </tbody>\n",
       "</table>\n",
       "</div>"
      ],
      "text/plain": [
       "                                Index Name  Annual Return  Cumulative Returns  \\\n",
       "^GSPC                              S&P 500       0.120780            1.131863   \n",
       "^DJI          Dow Jones Industrial Average       0.120027            1.027199   \n",
       "^IXIC                     NASDAQ Composite       0.142668            1.423953   \n",
       "^NYA                   NYSE COMPOSITE (DJ)       0.069774            0.564824   \n",
       "^XAX             NYSE AMEX COMPOSITE INDEX       0.258345            2.487891   \n",
       "^RUT                          Russell 2000       0.073362            0.599998   \n",
       "^FTSE                             FTSE 100       0.067920            0.548529   \n",
       "^GDAXI               DAX PERFORMANCE-INDEX       0.074409            0.613604   \n",
       "^FCHI                               CAC 40       0.110449            1.008922   \n",
       "^STOXX50E                   ESTX 50 PR.EUR       0.106518            0.378955   \n",
       "^N100                   Euronext 100 Index       0.146170            0.901435   \n",
       "^BFX                                BEL 20       0.022714            0.155428   \n",
       "IMOEX.ME                    Unknown Ticker       0.232725            0.505797   \n",
       "^N225                           Nikkei 225       0.090134            0.746953   \n",
       "^HSI                       HANG SENG INDEX      -0.036418           -0.214266   \n",
       "000001.SS              SSE Composite Index       0.034618            0.182939   \n",
       "399001.SZ                   Shenzhen Index       0.049412            0.267122   \n",
       "^STI                             STI Index       0.058149            0.450772   \n",
       "^AXJO                          S&P/ASX 200       0.062240            0.443502   \n",
       "^AORD                       ALL ORDINARIES       0.069427            0.563961   \n",
       "^BSESN                      S&P BSE SENSEX       0.225950            1.780478   \n",
       "^JKSE                        IDX COMPOSITE       0.101062            0.846998   \n",
       "^KLSE             FTSE Bursa Malaysia KLCI       0.031351            0.192618   \n",
       "^NZ50      S&P/NZX 50 INDEX GROSS ( GROSS        0.086072            0.384975   \n",
       "^KS11                KOSPI Composite Index       0.123990            0.821629   \n",
       "^TWII                  TSEC weighted index       0.156119            1.065443   \n",
       "^GSPTSE            S&P/TSX Composite index       0.098812            0.866536   \n",
       "^BVSP                             IBOVESPA       0.117842            0.922008   \n",
       "^MXX                            IPC MEXICO       0.093125            0.740865   \n",
       "^MERV                       Unknown Ticker       0.969730           31.316062   \n",
       "^TA125.TA                           TA-125       0.111202            0.706298   \n",
       "^SET.BK                      SET_SET Index       0.065774            0.382045   \n",
       "\n",
       "           Annual Volatility  Sharpe Ratio  Sortino Ratio  Max Drawdown  \\\n",
       "^GSPC               0.148948      0.839839       1.269630     -0.254251   \n",
       "^DJI                0.145416      0.851773       1.328321     -0.219408   \n",
       "^IXIC               0.219270      0.718443       1.012693     -0.363953   \n",
       "^NYA                0.177647      0.469175       0.646793     -0.381142   \n",
       "^XAX                0.211023      1.194617       1.832885     -0.192832   \n",
       "^RUT                0.237948      0.417525       0.581867     -0.418749   \n",
       "^FTSE               0.128597      0.575142       0.846501     -0.139876   \n",
       "^GDAXI              0.182517      0.484898       0.674283     -0.387794   \n",
       "^FCHI               0.153340      0.759661       1.147428     -0.230398   \n",
       "^STOXX50E           0.096090      1.101531       1.670442     -0.102196   \n",
       "^N100               0.169520      0.889459       1.322688     -0.206658   \n",
       "^BFX                0.177894      0.216252       0.290026     -0.397670   \n",
       "IMOEX.ME            0.268790      0.909182       1.475507     -0.312345   \n",
       "^N225               0.168589      0.596115       0.872482     -0.312690   \n",
       "^HSI                0.186448     -0.106185      -0.156037     -0.527520   \n",
       "000001.SS           0.165552      0.288612       0.399471     -0.223111   \n",
       "399001.SZ           0.217395      0.330985       0.462392     -0.426318   \n",
       "^STI                0.102700      0.601509       0.929446     -0.137898   \n",
       "^AXJO               0.117167      0.573990       0.813708     -0.156707   \n",
       "^AORD               0.117559      0.629769       0.909276     -0.166183   \n",
       "^BSESN              0.153033      1.407883       2.167859     -0.168462   \n",
       "^JKSE               0.118021      0.874420       1.378796     -0.104833   \n",
       "^KLSE               0.100986      0.355938       0.544287     -0.184746   \n",
       "^NZ50               0.125522      0.720256       1.137934     -0.219055   \n",
       "^KS11               0.163268      0.797216       1.218173     -0.347851   \n",
       "^TWII               0.147974      1.054485       1.567837     -0.316319   \n",
       "^GSPTSE             0.120055      0.844404       1.320820     -0.175708   \n",
       "^BVSP               0.251853      0.569805       0.782346     -0.468158   \n",
       "^MXX                0.131945      0.740804       1.112210     -0.211673   \n",
       "^MERV               8.460057      0.512306       8.094660     -0.951024   \n",
       "^TA125.TA           0.157734      0.747394       1.093565     -0.252648   \n",
       "^SET.BK             0.120973      0.586892       0.889116     -0.207349   \n",
       "\n",
       "           Calmar Ratio   1_Train    1_Test            Test Date  \n",
       "^GSPC          0.475041  0.561118  0.540024  2017-05-08 00:00:00  \n",
       "^DJI           0.547049  0.548982  0.547074  2017-10-02 00:00:00  \n",
       "^IXIC          0.391995  0.558129  0.554958  2017-05-08 00:00:00  \n",
       "^NYA           0.183064  0.556485  0.508961  2017-05-08 00:00:00  \n",
       "^XAX           1.339741  0.588579  0.516411  2018-07-20 00:00:00  \n",
       "^RUT           0.175192  0.565750  0.505376  2017-05-08 00:00:00  \n",
       "^FTSE          0.485575  0.572962  0.532777  2017-05-09 00:00:00  \n",
       "^GDAXI         0.191877  0.543304  0.532421  2017-05-17 00:00:00  \n",
       "^FCHI          0.479384  0.597586  0.494937  2017-06-13 00:00:00  \n",
       "^STOXX50E      1.042287  0.635540  0.459426  2020-10-30 00:00:00  \n",
       "^N100          0.707303  0.580509  0.482323  2019-05-17 00:00:00  \n",
       "^BFX           0.057117  0.580660  0.520962  2017-08-30 00:00:00  \n",
       "IMOEX.ME       0.745092  0.598784  0.520243  2021-12-22 00:00:00  \n",
       "^N225          0.288254  0.594201  0.471166  2017-05-01 00:00:00  \n",
       "^HSI          -0.069037  0.553166  0.473459  2017-05-09 00:00:00  \n",
       "000001.SS      0.155162  0.605184  0.508434  2018-11-14 00:00:00  \n",
       "399001.SZ      0.115904  0.609574  0.508885  2018-11-23 00:00:00  \n",
       "^STI           0.421679  0.599669  0.501807  2017-05-18 00:00:00  \n",
       "^AXJO          0.397176  0.550571  0.482714  2017-12-06 00:00:00  \n",
       "^AORD          0.417775  0.547321  0.481548  2017-05-12 00:00:00  \n",
       "^BSESN         1.341251  0.578791  0.477093  2018-11-07 00:00:00  \n",
       "^JKSE          0.964027  0.597821  0.530803  2017-05-19 00:00:00  \n",
       "^KLSE          0.169696  0.604207  0.486449  2018-02-09 00:00:00  \n",
       "^NZ50          0.392923  0.565469  0.516583  2020-01-09 00:00:00  \n",
       "^KS11          0.356446  0.563201  0.555641  2018-09-28 00:00:00  \n",
       "^TWII          0.493551  0.601824  0.500397  2018-10-25 00:00:00  \n",
       "^GSPTSE        0.562365  0.568883  0.473653  2017-05-04 00:00:00  \n",
       "^BVSP          0.251714  0.547929  0.515213  2018-01-11 00:00:00  \n",
       "^MXX           0.439945  0.580732  0.505096  2017-10-03 00:00:00  \n",
       "^MERV          1.019669  0.570876  0.477958  2018-09-04 00:00:00  \n",
       "^TA125.TA      0.440146  0.607436  0.471831  2018-10-07 00:00:00  \n",
       "^SET.BK        0.317217  0.605386  0.505074  2018-09-13 00:00:00  "
      ]
     },
     "execution_count": 3,
     "metadata": {},
     "output_type": "execute_result"
    }
   ],
   "source": [
    "all_data"
   ]
  },
  {
   "cell_type": "code",
   "execution_count": 4,
   "metadata": {},
   "outputs": [],
   "source": [
    "all_data.to_excel(\"Backtested/Trend_INDICES.xlsx\", index=True)"
   ]
  }
 ],
 "metadata": {
  "kernelspec": {
   "display_name": "Python 3",
   "language": "python",
   "name": "python3"
  },
  "language_info": {
   "codemirror_mode": {
    "name": "ipython",
    "version": 3
   },
   "file_extension": ".py",
   "mimetype": "text/x-python",
   "name": "python",
   "nbconvert_exporter": "python",
   "pygments_lexer": "ipython3",
   "version": "3.11.4"
  }
 },
 "nbformat": 4,
 "nbformat_minor": 2
}
