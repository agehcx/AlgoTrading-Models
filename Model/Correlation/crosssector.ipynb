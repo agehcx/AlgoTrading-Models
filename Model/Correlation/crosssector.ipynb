{
 "cells": [
  {
   "cell_type": "code",
   "execution_count": 3,
   "metadata": {},
   "outputs": [
    {
     "name": "stderr",
     "output_type": "stream",
     "text": [
      "[*********************100%%**********************]  50 of 50 completed\n",
      "C:\\Users\\HP Victus 16\\AppData\\Local\\Temp\\ipykernel_13008\\2854305312.py:21: FutureWarning: The default fill_method='pad' in DataFrame.pct_change is deprecated and will be removed in a future version. Either fill in any non-leading NA values prior to calling pct_change or specify 'fill_method=None' to not fill NA values.\n",
      "  returns = data.pct_change().dropna()\n"
     ]
    },
    {
     "data": {
      "text/plain": [
       "[('BANPU.BK', 'TOP.BK', 0.6017323642273077),\n",
       " ('BBL.BK', 'SCB.BK', 0.6073363504639026),\n",
       " ('BDMS.BK', 'BH.BK', 0.6313775878867123),\n",
       " ('BGRIM.BK', 'GPSC.BK', 0.728704694413642),\n",
       " ('MTC.BK', 'SAWAD.BK', 0.7744986302156663)]"
      ]
     },
     "execution_count": 3,
     "metadata": {},
     "output_type": "execute_result"
    }
   ],
   "source": [
    "import numpy as np\n",
    "import pandas as pd\n",
    "import matplotlib.pyplot as plt\n",
    "import seaborn as sns\n",
    "import yfinance as yf\n",
    "\n",
    "# List of stock symbols\n",
    "stocks = ['ADVANC', 'AOT', 'AWC', 'BANPU', 'BBL', 'BDMS', 'BEM', 'BGRIM',\n",
    "          'BH', 'BTS', 'CBG', 'CENTEL', 'COM7', 'CPALL', 'CPF', 'CPN', 'CRC',\n",
    "          'DELTA', 'EA', 'EGCO', 'GLOBAL', 'GPSC', 'GULF', 'HMPRO', 'INTUCH',\n",
    "          'IVL', 'KBANK', 'KCE', 'KTB', 'KTC', 'LH', 'MINT', 'MTC', 'OR',\n",
    "          'OSP', 'PTT', 'PTTEP', 'PTTGC', 'RATCH', 'SAWAD', 'SCB', 'SCC',\n",
    "          'SCGP', 'TISCO', 'TLI', 'TOP', 'TRUE', 'TTB', 'TU', 'WHA']\n",
    "\n",
    "stock_tickers = [stock +'.BK' for stock in stocks]\n",
    "\n",
    "# Download historical stock data from Yahoo Finance\n",
    "data = yf.download(stock_tickers, start='2020-01-01', end='2023-01-01')['Adj Close']\n",
    "\n",
    "# Calculate daily returns\n",
    "returns = data.pct_change().dropna()\n",
    "\n",
    "# Compute correlation matrix\n",
    "correlation_matrix = returns.corr()\n",
    "\n",
    "# Identify pairs with correlation > 0.7\n",
    "threshold = 0.6\n",
    "high_corr_pairs = []\n",
    "\n",
    "for i in range(len(correlation_matrix.columns)):\n",
    "    for j in range(i+1, len(correlation_matrix.columns)):\n",
    "        if correlation_matrix.iloc[i, j] > threshold:\n",
    "            high_corr_pairs.append((correlation_matrix.columns[i], correlation_matrix.columns[j], correlation_matrix.iloc[i, j]))\n",
    "\n",
    "# Display the high correlation pairs\n",
    "high_corr_pairs\n"
   ]
  }
 ],
 "metadata": {
  "kernelspec": {
   "display_name": "Python 3",
   "language": "python",
   "name": "python3"
  },
  "language_info": {
   "codemirror_mode": {
    "name": "ipython",
    "version": 3
   },
   "file_extension": ".py",
   "mimetype": "text/x-python",
   "name": "python",
   "nbconvert_exporter": "python",
   "pygments_lexer": "ipython3",
   "version": "3.11.4"
  }
 },
 "nbformat": 4,
 "nbformat_minor": 2
}
