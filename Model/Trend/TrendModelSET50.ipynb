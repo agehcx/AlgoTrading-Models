{
 "cells": [
  {
   "cell_type": "code",
   "execution_count": 1,
   "metadata": {},
   "outputs": [
    {
     "name": "stderr",
     "output_type": "stream",
     "text": [
      "c:\\Users\\HP Victus 16\\AppData\\Local\\Programs\\Python\\Python311\\Lib\\site-packages\\pyfolio\\pos.py:26: UserWarning: Module \"zipline.assets\" not found; mutltipliers will not be applied to position notionals.\n",
      "  warnings.warn(\n"
     ]
    }
   ],
   "source": [
    "import empyrical as ep\n",
    "import matplotlib.pyplot as plt\n",
    "import numpy as np\n",
    "import pandas as pd\n",
    "import pandas_ta as ta\n",
    "import pyfolio as pf\n",
    "import plotly.graph_objects as go\n",
    "import plotly.express as px\n",
    "import seaborn as sns\n",
    "import yfinance as yf\n",
    "\n",
    "import datetime\n",
    "import warnings\n",
    "import pytz\n",
    "\n",
    "from sklearn.metrics import confusion_matrix, ConfusionMatrixDisplay, accuracy_score\n",
    "from sklearn.model_selection import train_test_split, cross_val_score, GridSearchCV\n",
    "from sklearn.ensemble import RandomForestClassifier, VotingClassifier\n",
    "from sklearn.pipeline import Pipeline\n",
    "from sklearn.preprocessing import MinMaxScaler\n",
    "from sklearn.neighbors import KNeighborsClassifier\n",
    "\n",
    "from xgboost import XGBClassifier"
   ]
  },
  {
   "cell_type": "code",
   "execution_count": 2,
   "metadata": {},
   "outputs": [],
   "source": [
    "plt.style.use(\"tableau-colorblind10\")\n",
    "# Disable future warnings\n",
    "warnings.simplefilter(action='ignore', category=FutureWarning)\n",
    "warnings.simplefilter(action='ignore', category=RuntimeWarning)\n",
    "warnings.simplefilter(action='ignore', category=pd.errors.SettingWithCopyWarning)\n",
    "\n",
    "yf.pdr_override()"
   ]
  },
  {
   "cell_type": "code",
   "execution_count": 3,
   "metadata": {},
   "outputs": [],
   "source": [
    "tickers = [\n",
    "    \"AAV\", \"ADVANC\", \"AEONTS\", \"AMATA\", \"AOT\", \"AP\", \"AURA\", \"AWC\", \"BAM\", \"BANPU\",\n",
    "    \"BBL\", \"BCH\", \"BCP\", \"BCPG\", \"BDMS\", \"BEM\", \"BGRIM\", \"BH\", \"BLA\", \n",
    "    # \"BSRC\",\n",
    "    \"BTG\", \"BTS\", \"BYD\", \"CBG\", \"CENTEL\", \"CHG\", \"CK\", \"COM7\", \"CPALL\", \"CPF\",\n",
    "    \"CPN\", \"CRC\", \"DELTA\", \"DOHOME\", \"EA\", \"EGCO\", \"ERW\", \"FORTH\", \"GLOBAL\", \"GPSC\",\n",
    "    \"GULF\", \"GUNKUL\", \"HANA\", \"HMPRO\", \"ICHI\", \"INTUCH\", \"IRPC\", \"ITC\", \"IVL\", \"JMART\",\n",
    "    \"JMT\", \"KBANK\", \"KCE\", \"KKP\", \"KTB\", \"KTC\", \"LH\", \"M\", \"MEGA\", \"MINT\",\n",
    "    \"MOSHI\", \"MTC\", \"NEX\", \"OR\", \"ORI\", \"OSP\", \"PLANB\", \"PTT\", \"PTTEP\", \"PTTGC\",\n",
    "    \"RATCH\", \"RBF\", \"RCL\", \"SAPPE\", \"SAWAD\", \"SCB\", \"SCC\", \"SCGP\", \"SIRI\", \"SISB\",\n",
    "    \"SJWD\", \"SNNP\", \"SPALI\", \"SPRC\", \"STA\", \"STGT\", \"TASCO\", \"TCAP\", \"THG\", \"TIDLOR\",\n",
    "    \"TISCO\", \"TKN\", \"TLI\", \"TOA\", \"TOP\", \"TRUE\", \"TTB\", \"TU\", \"VGI\", \"WHA\"\n",
    "]"
   ]
  },
  {
   "cell_type": "code",
   "execution_count": 4,
   "metadata": {},
   "outputs": [
    {
     "data": {
      "text/plain": [
       "['^SET.BK',\n",
       " 'TDEX.BK',\n",
       " 'AAV.BK',\n",
       " 'ADVANC.BK',\n",
       " 'AEONTS.BK',\n",
       " 'AMATA.BK',\n",
       " 'AOT.BK',\n",
       " 'AP.BK',\n",
       " 'AURA.BK',\n",
       " 'AWC.BK',\n",
       " 'BAM.BK',\n",
       " 'BANPU.BK',\n",
       " 'BBL.BK',\n",
       " 'BCH.BK',\n",
       " 'BCP.BK',\n",
       " 'BCPG.BK',\n",
       " 'BDMS.BK',\n",
       " 'BEM.BK',\n",
       " 'BGRIM.BK',\n",
       " 'BH.BK',\n",
       " 'BLA.BK',\n",
       " 'BTG.BK',\n",
       " 'BTS.BK',\n",
       " 'BYD.BK',\n",
       " 'CBG.BK',\n",
       " 'CENTEL.BK',\n",
       " 'CHG.BK',\n",
       " 'CK.BK',\n",
       " 'COM7.BK',\n",
       " 'CPALL.BK',\n",
       " 'CPF.BK',\n",
       " 'CPN.BK',\n",
       " 'CRC.BK',\n",
       " 'DELTA.BK',\n",
       " 'DOHOME.BK',\n",
       " 'EA.BK',\n",
       " 'EGCO.BK',\n",
       " 'ERW.BK',\n",
       " 'FORTH.BK',\n",
       " 'GLOBAL.BK',\n",
       " 'GPSC.BK',\n",
       " 'GULF.BK',\n",
       " 'GUNKUL.BK',\n",
       " 'HANA.BK',\n",
       " 'HMPRO.BK',\n",
       " 'ICHI.BK',\n",
       " 'INTUCH.BK',\n",
       " 'IRPC.BK',\n",
       " 'ITC.BK',\n",
       " 'IVL.BK',\n",
       " 'JMART.BK',\n",
       " 'JMT.BK',\n",
       " 'KBANK.BK',\n",
       " 'KCE.BK',\n",
       " 'KKP.BK',\n",
       " 'KTB.BK',\n",
       " 'KTC.BK',\n",
       " 'LH.BK',\n",
       " 'M.BK',\n",
       " 'MEGA.BK',\n",
       " 'MINT.BK',\n",
       " 'MOSHI.BK',\n",
       " 'MTC.BK',\n",
       " 'NEX.BK',\n",
       " 'OR.BK',\n",
       " 'ORI.BK',\n",
       " 'OSP.BK',\n",
       " 'PLANB.BK',\n",
       " 'PTT.BK',\n",
       " 'PTTEP.BK',\n",
       " 'PTTGC.BK',\n",
       " 'RATCH.BK',\n",
       " 'RBF.BK',\n",
       " 'RCL.BK',\n",
       " 'SAPPE.BK',\n",
       " 'SAWAD.BK',\n",
       " 'SCB.BK',\n",
       " 'SCC.BK',\n",
       " 'SCGP.BK',\n",
       " 'SIRI.BK',\n",
       " 'SISB.BK',\n",
       " 'SJWD.BK',\n",
       " 'SNNP.BK',\n",
       " 'SPALI.BK',\n",
       " 'SPRC.BK',\n",
       " 'STA.BK',\n",
       " 'STGT.BK',\n",
       " 'TASCO.BK',\n",
       " 'TCAP.BK',\n",
       " 'THG.BK',\n",
       " 'TIDLOR.BK',\n",
       " 'TISCO.BK',\n",
       " 'TKN.BK',\n",
       " 'TLI.BK',\n",
       " 'TOA.BK',\n",
       " 'TOP.BK',\n",
       " 'TRUE.BK',\n",
       " 'TTB.BK',\n",
       " 'TU.BK',\n",
       " 'VGI.BK',\n",
       " 'WHA.BK']"
      ]
     },
     "execution_count": 4,
     "metadata": {},
     "output_type": "execute_result"
    }
   ],
   "source": [
    "tickers_list = [ ticker + \".BK\" for ticker in tickers ]\n",
    "tickers_list.insert(0,\"TDEX.BK\")\n",
    "tickers_list.insert(0,\"^SET.BK\")\n",
    "tickers_list"
   ]
  },
  {
   "cell_type": "code",
   "execution_count": 5,
   "metadata": {},
   "outputs": [],
   "source": [
    "def fetch_data(ticker, start, end):\n",
    "    df = yf.download(ticker, start=start, end=end)\n",
    "    df.index = pd.to_datetime(df.index)  # Ensure index is datetime\n",
    "    return df"
   ]
  },
  {
   "cell_type": "code",
   "execution_count": 6,
   "metadata": {},
   "outputs": [],
   "source": [
    "def detect_trends(df, max_drawdown=30):\n",
    "    \n",
    "    trends = np.empty((0, 3), np.datetime64)\n",
    "    x = len(df)\n",
    "    trend = ''\n",
    "    Peak = -np.inf\n",
    "    date_Peak = None\n",
    "    Trough = np.inf\n",
    "    date_Trough = None\n",
    "\n",
    "    for i in range(x):\n",
    "        \n",
    "        up = 0\n",
    "        dn = 0\n",
    "        \n",
    "        if trend == '' or trend == 'bull':\n",
    "            if df.iloc[i]['Close'] >= Peak:\n",
    "                Peak = df.iloc[i]['Close']\n",
    "                date_Peak = df.index[i]\n",
    "                \n",
    "        if trend == '' or trend == 'bear':\n",
    "            if df.iloc[i]['Close'] <= Trough:\n",
    "                Trough = df.iloc[i]['Close']\n",
    "                date_Trough = df.index[i]\n",
    "                \n",
    "        if Peak != -np.inf:\n",
    "            dn = (Peak - df.iloc[i]['Close']) / (Peak / 100.0)\n",
    "            \n",
    "        if Trough != np.inf:\n",
    "            up = (df.iloc[i]['Close'] - Trough) / (Trough / 100.0)\n",
    "\n",
    "        if up >= max_drawdown:\n",
    "            trend = 'bull'\n",
    "            trends = np.append(trends, np.array([[date_Trough, df.index[i], 1]]), axis=0)\n",
    "            Trough = np.inf\n",
    "            Peak = df.iloc[i]['Close']\n",
    "            date_Peak = df.index[i]\n",
    "\n",
    "        if dn >= max_drawdown:\n",
    "            trend = 'bear'\n",
    "            trends = np.append(trends, np.array([[date_Peak, df.index[i], 2]]), axis=0)\n",
    "            Peak = -np.inf\n",
    "            Trough = df.iloc[i]['Close']\n",
    "            date_Trough = df.index[i]\n",
    "\n",
    "    return trends"
   ]
  },
  {
   "cell_type": "code",
   "execution_count": 7,
   "metadata": {},
   "outputs": [],
   "source": [
    "def label_trends(df, trends):\n",
    "    df['Trend'] = 0  # Initialize trend column with 0\n",
    "    for trend in trends:\n",
    "        start_date = trend[0]\n",
    "        end_date = trend[1]\n",
    "        trend_type = trend[2]\n",
    "        df.loc[(df.index >= start_date) & (df.index <= end_date), 'Trend'] = trend_type\n",
    "\n",
    "    return df\n"
   ]
  },
  {
   "cell_type": "code",
   "execution_count": 8,
   "metadata": {},
   "outputs": [
    {
     "name": "stderr",
     "output_type": "stream",
     "text": [
      "[*********************100%%**********************]  1 of 1 completed\n"
     ]
    },
    {
     "name": "stdout",
     "output_type": "stream",
     "text": [
      "^SET.BK | Train : 0.6054 | Test : 0.5051\n",
      "0.06577 0.12097 0.58689 -0.20735\n"
     ]
    },
    {
     "name": "stderr",
     "output_type": "stream",
     "text": [
      "[*********************100%%**********************]  1 of 1 completed\n"
     ]
    },
    {
     "name": "stdout",
     "output_type": "stream",
     "text": [
      "TDEX.BK | Train : 0.6700 | Test : 0.4878\n",
      "0.00000 0.00000 nan 0.00000\n"
     ]
    },
    {
     "name": "stderr",
     "output_type": "stream",
     "text": [
      "[*********************100%%**********************]  1 of 1 completed\n"
     ]
    },
    {
     "name": "stdout",
     "output_type": "stream",
     "text": [
      "AAV.BK | Train : 0.6360 | Test : 0.6229\n",
      "0.00000 0.00000 nan 0.00000\n"
     ]
    },
    {
     "name": "stderr",
     "output_type": "stream",
     "text": [
      "[*********************100%%**********************]  1 of 1 completed\n"
     ]
    },
    {
     "name": "stdout",
     "output_type": "stream",
     "text": [
      "ADVANC.BK | Train : 0.5787 | Test : 0.5764\n",
      "0.00000 0.00000 nan 0.00000\n"
     ]
    },
    {
     "name": "stderr",
     "output_type": "stream",
     "text": [
      "[*********************100%%**********************]  1 of 1 completed\n"
     ]
    },
    {
     "name": "stdout",
     "output_type": "stream",
     "text": [
      "AEONTS.BK | Train : 0.6768 | Test : 0.5943\n",
      "0.14518 0.34998 0.56137 -0.41600\n"
     ]
    },
    {
     "name": "stderr",
     "output_type": "stream",
     "text": [
      "[*********************100%%**********************]  1 of 1 completed\n"
     ]
    },
    {
     "name": "stdout",
     "output_type": "stream",
     "text": [
      "AMATA.BK | Train : 0.6102 | Test : 0.5849\n",
      "0.26490 0.31508 0.90227 -0.30154\n"
     ]
    },
    {
     "name": "stderr",
     "output_type": "stream",
     "text": [
      "[*********************100%%**********************]  1 of 1 completed\n"
     ]
    },
    {
     "name": "stdout",
     "output_type": "stream",
     "text": [
      "AOT.BK | Train : 0.5852 | Test : 0.5841\n",
      "0.06705 0.28166 0.36765 -0.27407\n"
     ]
    },
    {
     "name": "stderr",
     "output_type": "stream",
     "text": [
      "[*********************100%%**********************]  1 of 1 completed\n",
      "[*********************100%%**********************]  1 of 1 completed"
     ]
    },
    {
     "name": "stdout",
     "output_type": "stream",
     "text": [
      "AP.BK | Train : 0.5966 | Test : 0.5798\n",
      "0.00000 0.00000 nan 0.00000\n"
     ]
    },
    {
     "name": "stderr",
     "output_type": "stream",
     "text": [
      "\n"
     ]
    },
    {
     "name": "stdout",
     "output_type": "stream",
     "text": [
      "AURA.BK | Train : 0.8846 | Test : 0.5714\n",
      "0.00000 0.00000 nan 0.00000\n"
     ]
    },
    {
     "name": "stderr",
     "output_type": "stream",
     "text": [
      "[*********************100%%**********************]  1 of 1 completed\n",
      "[*********************100%%**********************]  1 of 1 completed"
     ]
    },
    {
     "name": "stdout",
     "output_type": "stream",
     "text": [
      "AWC.BK | Train : 0.6413 | Test : 0.6303\n",
      "0.00000 0.00000 nan 0.00000\n"
     ]
    },
    {
     "name": "stderr",
     "output_type": "stream",
     "text": [
      "\n"
     ]
    },
    {
     "name": "stdout",
     "output_type": "stream",
     "text": [
      "BAM.BK | Train : 0.6378 | Test : 0.6795\n",
      "0.00000 0.00000 nan 0.00000\n"
     ]
    },
    {
     "name": "stderr",
     "output_type": "stream",
     "text": [
      "[*********************100%%**********************]  1 of 1 completed\n"
     ]
    },
    {
     "name": "stdout",
     "output_type": "stream",
     "text": [
      "BANPU.BK | Train : 0.6009 | Test : 0.6068\n",
      "0.12253 0.38410 0.49184 -0.57718\n"
     ]
    },
    {
     "name": "stderr",
     "output_type": "stream",
     "text": [
      "[*********************100%%**********************]  1 of 1 completed\n"
     ]
    },
    {
     "name": "stdout",
     "output_type": "stream",
     "text": [
      "BBL.BK | Train : 0.5863 | Test : 0.5747\n",
      "0.13434 0.23554 0.65237 -0.29492\n"
     ]
    },
    {
     "name": "stderr",
     "output_type": "stream",
     "text": [
      "[*********************100%%**********************]  1 of 1 completed\n"
     ]
    },
    {
     "name": "stdout",
     "output_type": "stream",
     "text": [
      "BCH.BK | Train : 0.6141 | Test : 0.5951\n",
      "0.00000 0.00000 nan 0.00000\n"
     ]
    },
    {
     "name": "stderr",
     "output_type": "stream",
     "text": [
      "[*********************100%%**********************]  1 of 1 completed\n"
     ]
    },
    {
     "name": "stdout",
     "output_type": "stream",
     "text": [
      "BCP.BK | Train : 0.6437 | Test : 0.5960\n",
      "0.00000 0.00000 nan 0.00000\n"
     ]
    },
    {
     "name": "stderr",
     "output_type": "stream",
     "text": [
      "[*********************100%%**********************]  1 of 1 completed\n"
     ]
    },
    {
     "name": "stdout",
     "output_type": "stream",
     "text": [
      "BCPG.BK | Train : 0.6262 | Test : 0.6390\n",
      "0.00000 0.00000 nan 0.00000\n"
     ]
    },
    {
     "name": "stderr",
     "output_type": "stream",
     "text": [
      "[*********************100%%**********************]  1 of 1 completed\n"
     ]
    },
    {
     "name": "stdout",
     "output_type": "stream",
     "text": [
      "BDMS.BK | Train : 0.6313 | Test : 0.6210\n",
      "0.11079 0.21528 0.59484 -0.25532\n"
     ]
    },
    {
     "name": "stderr",
     "output_type": "stream",
     "text": [
      "[*********************100%%**********************]  1 of 1 completed\n"
     ]
    },
    {
     "name": "stdout",
     "output_type": "stream",
     "text": [
      "BEM.BK | Train : 0.6648 | Test : 0.6199\n",
      "0.00000 0.00000 nan 0.00000\n"
     ]
    },
    {
     "name": "stderr",
     "output_type": "stream",
     "text": [
      "[*********************100%%**********************]  1 of 1 completed\n"
     ]
    },
    {
     "name": "stdout",
     "output_type": "stream",
     "text": [
      "BGRIM.BK | Train : 0.6298 | Test : 0.5839\n",
      "0.00000 0.00000 nan 0.00000\n"
     ]
    },
    {
     "name": "stderr",
     "output_type": "stream",
     "text": [
      "[*********************100%%**********************]  1 of 1 completed\n"
     ]
    },
    {
     "name": "stdout",
     "output_type": "stream",
     "text": [
      "BH.BK | Train : 0.5825 | Test : 0.5753\n",
      "0.21668 0.23741 0.94390 -0.20522\n"
     ]
    },
    {
     "name": "stderr",
     "output_type": "stream",
     "text": [
      "[*********************100%%**********************]  1 of 1 completed\n",
      "[*********************100%%**********************]  1 of 1 completed"
     ]
    },
    {
     "name": "stdout",
     "output_type": "stream",
     "text": [
      "BLA.BK | Train : 0.5982 | Test : 0.6128\n",
      "0.00000 0.00000 nan 0.00000\n"
     ]
    },
    {
     "name": "stderr",
     "output_type": "stream",
     "text": [
      "\n"
     ]
    },
    {
     "name": "stdout",
     "output_type": "stream",
     "text": [
      "BTG.BK | Train : 0.8889 | Test : 0.6250\n",
      "0.00000 0.00000 nan 0.00000\n"
     ]
    },
    {
     "name": "stderr",
     "output_type": "stream",
     "text": [
      "[*********************100%%**********************]  1 of 1 completed\n"
     ]
    },
    {
     "name": "stdout",
     "output_type": "stream",
     "text": [
      "BTS.BK | Train : 0.6611 | Test : 0.6538\n",
      "0.00000 0.00000 nan 0.00000\n"
     ]
    },
    {
     "name": "stderr",
     "output_type": "stream",
     "text": [
      "[*********************100%%**********************]  1 of 1 completed\n"
     ]
    },
    {
     "name": "stdout",
     "output_type": "stream",
     "text": [
      "BYD.BK | Train : 0.7054 | Test : 0.6352\n",
      "0.00000 0.00000 nan 0.00000\n"
     ]
    },
    {
     "name": "stderr",
     "output_type": "stream",
     "text": [
      "[*********************100%%**********************]  1 of 1 completed\n"
     ]
    },
    {
     "name": "stdout",
     "output_type": "stream",
     "text": [
      "CBG.BK | Train : 0.5847 | Test : 0.5757\n",
      "0.00000 0.00000 nan 0.00000\n"
     ]
    },
    {
     "name": "stderr",
     "output_type": "stream",
     "text": [
      "[*********************100%%**********************]  1 of 1 completed\n"
     ]
    },
    {
     "name": "stdout",
     "output_type": "stream",
     "text": [
      "CENTEL.BK | Train : 0.6396 | Test : 0.6011\n",
      "0.00000 0.00000 nan 0.00000\n"
     ]
    },
    {
     "name": "stderr",
     "output_type": "stream",
     "text": [
      "[*********************100%%**********************]  1 of 1 completed\n"
     ]
    },
    {
     "name": "stdout",
     "output_type": "stream",
     "text": [
      "CHG.BK | Train : 0.6162 | Test : 0.5858\n",
      "0.00000 0.00000 nan 0.00000\n"
     ]
    },
    {
     "name": "stderr",
     "output_type": "stream",
     "text": [
      "[*********************100%%**********************]  1 of 1 completed\n"
     ]
    },
    {
     "name": "stdout",
     "output_type": "stream",
     "text": [
      "CK.BK | Train : 0.6202 | Test : 0.5732\n",
      "0.00000 0.00000 nan 0.00000\n"
     ]
    },
    {
     "name": "stderr",
     "output_type": "stream",
     "text": [
      "[*********************100%%**********************]  1 of 1 completed\n"
     ]
    },
    {
     "name": "stdout",
     "output_type": "stream",
     "text": [
      "COM7.BK | Train : 0.6031 | Test : 0.6098\n",
      "-0.20053 0.33996 -0.48513 -0.39444\n"
     ]
    },
    {
     "name": "stderr",
     "output_type": "stream",
     "text": [
      "[*********************100%%**********************]  1 of 1 completed\n"
     ]
    },
    {
     "name": "stdout",
     "output_type": "stream",
     "text": [
      "CPALL.BK | Train : 0.5952 | Test : 0.5822\n",
      "0.00000 0.00000 nan 0.00000\n"
     ]
    },
    {
     "name": "stderr",
     "output_type": "stream",
     "text": [
      "[*********************100%%**********************]  1 of 1 completed\n"
     ]
    },
    {
     "name": "stdout",
     "output_type": "stream",
     "text": [
      "CPF.BK | Train : 0.6117 | Test : 0.6528\n",
      "0.00000 0.00000 nan 0.00000\n"
     ]
    },
    {
     "name": "stderr",
     "output_type": "stream",
     "text": [
      "[*********************100%%**********************]  1 of 1 completed\n",
      "[*********************100%%**********************]  1 of 1 completed"
     ]
    },
    {
     "name": "stdout",
     "output_type": "stream",
     "text": [
      "CPN.BK | Train : 0.6082 | Test : 0.5717\n",
      "0.00000 0.00000 nan 0.00000\n"
     ]
    },
    {
     "name": "stderr",
     "output_type": "stream",
     "text": [
      "\n"
     ]
    },
    {
     "name": "stdout",
     "output_type": "stream",
     "text": [
      "CRC.BK | Train : 0.6259 | Test : 0.5918\n",
      "0.00000 0.00000 nan 0.00000\n"
     ]
    },
    {
     "name": "stderr",
     "output_type": "stream",
     "text": [
      "[*********************100%%**********************]  1 of 1 completed\n"
     ]
    },
    {
     "name": "stdout",
     "output_type": "stream",
     "text": [
      "DELTA.BK | Train : 0.5863 | Test : 0.5200\n",
      "1.00732 0.69484 1.34234 -0.61979\n"
     ]
    },
    {
     "name": "stderr",
     "output_type": "stream",
     "text": [
      "[*********************100%%**********************]  1 of 1 completed\n"
     ]
    },
    {
     "name": "stdout",
     "output_type": "stream",
     "text": [
      "DOHOME.BK | Train : 0.6547 | Test : 0.5977\n",
      "0.72060 0.28373 2.05476 -0.12500\n"
     ]
    },
    {
     "name": "stderr",
     "output_type": "stream",
     "text": [
      "[*********************100%%**********************]  1 of 1 completed\n"
     ]
    },
    {
     "name": "stdout",
     "output_type": "stream",
     "text": [
      "EA.BK | Train : 0.6389 | Test : 0.5955\n",
      "0.00000 0.00000 nan 0.00000\n"
     ]
    },
    {
     "name": "stderr",
     "output_type": "stream",
     "text": [
      "[*********************100%%**********************]  1 of 1 completed\n"
     ]
    },
    {
     "name": "stdout",
     "output_type": "stream",
     "text": [
      "EGCO.BK | Train : 0.6041 | Test : 0.5582\n",
      "-0.07528 0.22358 -0.23844 -0.60000\n"
     ]
    },
    {
     "name": "stderr",
     "output_type": "stream",
     "text": [
      "[*********************100%%**********************]  1 of 1 completed\n"
     ]
    },
    {
     "name": "stdout",
     "output_type": "stream",
     "text": [
      "ERW.BK | Train : 0.6622 | Test : 0.5904\n",
      "0.00000 0.00000 nan 0.00000\n"
     ]
    },
    {
     "name": "stderr",
     "output_type": "stream",
     "text": [
      "[*********************100%%**********************]  1 of 1 completed\n"
     ]
    },
    {
     "name": "stdout",
     "output_type": "stream",
     "text": [
      "FORTH.BK | Train : 0.6880 | Test : 0.5732\n",
      "0.00000 0.00000 nan 0.00000\n"
     ]
    },
    {
     "name": "stderr",
     "output_type": "stream",
     "text": [
      "[*********************100%%**********************]  1 of 1 completed\n"
     ]
    },
    {
     "name": "stdout",
     "output_type": "stream",
     "text": [
      "GLOBAL.BK | Train : 0.6152 | Test : 0.6051\n",
      "0.00000 0.00000 nan 0.00000\n"
     ]
    },
    {
     "name": "stderr",
     "output_type": "stream",
     "text": [
      "[*********************100%%**********************]  1 of 1 completed\n"
     ]
    },
    {
     "name": "stdout",
     "output_type": "stream",
     "text": [
      "GPSC.BK | Train : 0.6178 | Test : 0.5526\n",
      "0.18653 0.15486 1.18037 -0.08333\n"
     ]
    },
    {
     "name": "stderr",
     "output_type": "stream",
     "text": [
      "[*********************100%%**********************]  1 of 1 completed\n"
     ]
    },
    {
     "name": "stdout",
     "output_type": "stream",
     "text": [
      "GULF.BK | Train : 0.6451 | Test : 0.6314\n",
      "0.00000 0.00000 nan 0.00000\n"
     ]
    },
    {
     "name": "stderr",
     "output_type": "stream",
     "text": [
      "[*********************100%%**********************]  1 of 1 completed\n"
     ]
    },
    {
     "name": "stdout",
     "output_type": "stream",
     "text": [
      "GUNKUL.BK | Train : 0.6013 | Test : 0.6142\n",
      "0.00000 0.00000 nan 0.00000\n"
     ]
    },
    {
     "name": "stderr",
     "output_type": "stream",
     "text": [
      "[*********************100%%**********************]  1 of 1 completed\n"
     ]
    },
    {
     "name": "stdout",
     "output_type": "stream",
     "text": [
      "HANA.BK | Train : 0.6077 | Test : 0.5625\n",
      "0.00000 0.00000 nan 0.00000\n"
     ]
    },
    {
     "name": "stderr",
     "output_type": "stream",
     "text": [
      "[*********************100%%**********************]  1 of 1 completed\n"
     ]
    },
    {
     "name": "stdout",
     "output_type": "stream",
     "text": [
      "HMPRO.BK | Train : 0.5974 | Test : 0.6131\n",
      "0.00000 0.00000 nan 0.00000\n"
     ]
    },
    {
     "name": "stderr",
     "output_type": "stream",
     "text": [
      "[*********************100%%**********************]  1 of 1 completed\n"
     ]
    },
    {
     "name": "stdout",
     "output_type": "stream",
     "text": [
      "ICHI.BK | Train : 0.6551 | Test : 0.5810\n",
      "0.00000 0.00000 nan 0.00000\n"
     ]
    },
    {
     "name": "stderr",
     "output_type": "stream",
     "text": [
      "[*********************100%%**********************]  1 of 1 completed\n"
     ]
    },
    {
     "name": "stdout",
     "output_type": "stream",
     "text": [
      "INTUCH.BK | Train : 0.6021 | Test : 0.5881\n",
      "0.00000 0.00000 nan 0.00000\n"
     ]
    },
    {
     "name": "stderr",
     "output_type": "stream",
     "text": [
      "[*********************100%%**********************]  1 of 1 completed\n",
      "[*********************100%%**********************]  1 of 1 completed"
     ]
    },
    {
     "name": "stdout",
     "output_type": "stream",
     "text": [
      "IRPC.BK | Train : 0.6056 | Test : 0.6158\n",
      "0.00000 0.00000 nan 0.00000\n"
     ]
    },
    {
     "name": "stderr",
     "output_type": "stream",
     "text": [
      "\n"
     ]
    },
    {
     "name": "stdout",
     "output_type": "stream",
     "text": [
      "ITC.BK | Train : 0.9787 | Test : 0.6667\n",
      "0.00000 0.00000 nan 0.00000\n"
     ]
    },
    {
     "name": "stderr",
     "output_type": "stream",
     "text": [
      "[*********************100%%**********************]  1 of 1 completed\n"
     ]
    },
    {
     "name": "stdout",
     "output_type": "stream",
     "text": [
      "IVL.BK | Train : 0.6222 | Test : 0.5909\n",
      "0.00000 0.00000 nan 0.00000\n"
     ]
    },
    {
     "name": "stderr",
     "output_type": "stream",
     "text": [
      "[*********************100%%**********************]  1 of 1 completed\n"
     ]
    },
    {
     "name": "stdout",
     "output_type": "stream",
     "text": [
      "JMART.BK | Train : 0.6048 | Test : 0.5464\n",
      "0.00000 0.00000 nan 0.00000\n"
     ]
    },
    {
     "name": "stderr",
     "output_type": "stream",
     "text": [
      "[*********************100%%**********************]  1 of 1 completed\n"
     ]
    },
    {
     "name": "stdout",
     "output_type": "stream",
     "text": [
      "JMT.BK | Train : 0.6020 | Test : 0.5440\n",
      "-0.12209 0.28566 -0.30777 -0.50816\n"
     ]
    },
    {
     "name": "stderr",
     "output_type": "stream",
     "text": [
      "[*********************100%%**********************]  1 of 1 completed\n"
     ]
    },
    {
     "name": "stdout",
     "output_type": "stream",
     "text": [
      "KBANK.BK | Train : 0.5811 | Test : 0.5625\n",
      "0.12447 0.28831 0.54852 -0.39530\n"
     ]
    },
    {
     "name": "stderr",
     "output_type": "stream",
     "text": [
      "[*********************100%%**********************]  1 of 1 completed\n"
     ]
    },
    {
     "name": "stdout",
     "output_type": "stream",
     "text": [
      "KCE.BK | Train : 0.6042 | Test : 0.5508\n",
      "0.00000 0.00000 nan 0.00000\n"
     ]
    },
    {
     "name": "stderr",
     "output_type": "stream",
     "text": [
      "[*********************100%%**********************]  1 of 1 completed\n"
     ]
    },
    {
     "name": "stdout",
     "output_type": "stream",
     "text": [
      "KKP.BK | Train : 0.6043 | Test : 0.5929\n",
      "0.00000 0.00000 nan 0.00000\n"
     ]
    },
    {
     "name": "stderr",
     "output_type": "stream",
     "text": [
      "[*********************100%%**********************]  1 of 1 completed\n"
     ]
    },
    {
     "name": "stdout",
     "output_type": "stream",
     "text": [
      "KTB.BK | Train : 0.6065 | Test : 0.6562\n",
      "0.00000 0.00000 nan 0.00000\n"
     ]
    },
    {
     "name": "stderr",
     "output_type": "stream",
     "text": [
      "[*********************100%%**********************]  1 of 1 completed\n"
     ]
    },
    {
     "name": "stdout",
     "output_type": "stream",
     "text": [
      "KTC.BK | Train : 0.6008 | Test : 0.5562\n",
      "0.16343 0.32351 0.62882 -0.47892\n"
     ]
    },
    {
     "name": "stderr",
     "output_type": "stream",
     "text": [
      "[*********************100%%**********************]  1 of 1 completed\n"
     ]
    },
    {
     "name": "stdout",
     "output_type": "stream",
     "text": [
      "LH.BK | Train : 0.5913 | Test : 0.6198\n",
      "0.00000 0.00000 nan 0.00000\n"
     ]
    },
    {
     "name": "stderr",
     "output_type": "stream",
     "text": [
      "[*********************100%%**********************]  1 of 1 completed\n"
     ]
    },
    {
     "name": "stdout",
     "output_type": "stream",
     "text": [
      "M.BK | Train : 0.6174 | Test : 0.5451\n",
      "0.00000 0.00000 nan 0.00000\n"
     ]
    },
    {
     "name": "stderr",
     "output_type": "stream",
     "text": [
      "[*********************100%%**********************]  1 of 1 completed\n"
     ]
    },
    {
     "name": "stdout",
     "output_type": "stream",
     "text": [
      "MEGA.BK | Train : 0.6278 | Test : 0.6040\n",
      "0.00000 0.00000 nan 0.00000\n"
     ]
    },
    {
     "name": "stderr",
     "output_type": "stream",
     "text": [
      "[*********************100%%**********************]  1 of 1 completed\n",
      "[*********************100%%**********************]  1 of 1 completed"
     ]
    },
    {
     "name": "stdout",
     "output_type": "stream",
     "text": [
      "MINT.BK | Train : 0.6104 | Test : 0.5902\n",
      "0.00000 0.00000 nan 0.00000\n"
     ]
    },
    {
     "name": "stderr",
     "output_type": "stream",
     "text": [
      "\n"
     ]
    },
    {
     "name": "stdout",
     "output_type": "stream",
     "text": [
      "MOSHI.BK | Train : 1.0000 | Test : 0.5455\n",
      "0.00000 0.00000 nan 0.00000\n"
     ]
    },
    {
     "name": "stderr",
     "output_type": "stream",
     "text": [
      "[*********************100%%**********************]  1 of 1 completed\n"
     ]
    },
    {
     "name": "stdout",
     "output_type": "stream",
     "text": [
      "MTC.BK | Train : 0.5927 | Test : 0.5682\n",
      "0.00000 0.00000 nan 0.00000\n"
     ]
    },
    {
     "name": "stderr",
     "output_type": "stream",
     "text": [
      "[*********************100%%**********************]  1 of 1 completed\n",
      "[*********************100%%**********************]  1 of 1 completed"
     ]
    },
    {
     "name": "stdout",
     "output_type": "stream",
     "text": [
      "NEX.BK | Train : 0.6564 | Test : 0.5887\n",
      "0.00000 0.00000 nan 0.00000\n"
     ]
    },
    {
     "name": "stderr",
     "output_type": "stream",
     "text": [
      "\n"
     ]
    },
    {
     "name": "stdout",
     "output_type": "stream",
     "text": [
      "OR.BK | Train : 0.6784 | Test : 0.6200\n",
      "0.00000 0.00000 nan 0.00000\n"
     ]
    },
    {
     "name": "stderr",
     "output_type": "stream",
     "text": [
      "[*********************100%%**********************]  1 of 1 completed\n",
      "[*********************100%%**********************]  1 of 1 completed"
     ]
    },
    {
     "name": "stdout",
     "output_type": "stream",
     "text": [
      "ORI.BK | Train : 0.5933 | Test : 0.6454\n",
      "0.00000 0.00000 nan 0.00000\n"
     ]
    },
    {
     "name": "stderr",
     "output_type": "stream",
     "text": [
      "\n"
     ]
    },
    {
     "name": "stdout",
     "output_type": "stream",
     "text": [
      "OSP.BK | Train : 0.6553 | Test : 0.6573\n",
      "0.00000 0.00000 nan 0.00000\n"
     ]
    },
    {
     "name": "stderr",
     "output_type": "stream",
     "text": [
      "[*********************100%%**********************]  1 of 1 completed\n"
     ]
    },
    {
     "name": "stdout",
     "output_type": "stream",
     "text": [
      "PLANB.BK | Train : 0.6211 | Test : 0.5791\n",
      "0.29160 0.28457 1.04108 -0.21827\n"
     ]
    },
    {
     "name": "stderr",
     "output_type": "stream",
     "text": [
      "[*********************100%%**********************]  1 of 1 completed\n"
     ]
    },
    {
     "name": "stdout",
     "output_type": "stream",
     "text": [
      "PTT.BK | Train : 0.5647 | Test : 0.6308\n",
      "0.08193 0.25145 0.43689 -0.33708\n"
     ]
    },
    {
     "name": "stderr",
     "output_type": "stream",
     "text": [
      "[*********************100%%**********************]  1 of 1 completed\n"
     ]
    },
    {
     "name": "stdout",
     "output_type": "stream",
     "text": [
      "PTTEP.BK | Train : 0.5787 | Test : 0.5432\n",
      "0.27066 0.30462 0.93678 -0.29716\n"
     ]
    },
    {
     "name": "stderr",
     "output_type": "stream",
     "text": [
      "[*********************100%%**********************]  1 of 1 completed\n"
     ]
    },
    {
     "name": "stdout",
     "output_type": "stream",
     "text": [
      "PTTGC.BK | Train : 0.5925 | Test : 0.5874\n",
      "0.00000 0.00000 nan 0.00000\n"
     ]
    },
    {
     "name": "stderr",
     "output_type": "stream",
     "text": [
      "[*********************100%%**********************]  1 of 1 completed\n",
      "[*********************100%%**********************]  1 of 1 completed"
     ]
    },
    {
     "name": "stdout",
     "output_type": "stream",
     "text": [
      "RATCH.BK | Train : 0.6326 | Test : 0.6273\n",
      "0.00000 0.00000 nan 0.00000\n"
     ]
    },
    {
     "name": "stderr",
     "output_type": "stream",
     "text": [
      "\n"
     ]
    },
    {
     "name": "stdout",
     "output_type": "stream",
     "text": [
      "RBF.BK | Train : 0.6518 | Test : 0.5460\n",
      "1.12245 0.29926 2.66591 -0.15678\n"
     ]
    },
    {
     "name": "stderr",
     "output_type": "stream",
     "text": [
      "[*********************100%%**********************]  1 of 1 completed\n"
     ]
    },
    {
     "name": "stdout",
     "output_type": "stream",
     "text": [
      "RCL.BK | Train : 0.6141 | Test : 0.5781\n",
      "0.00000 0.00000 nan 0.00000\n"
     ]
    },
    {
     "name": "stderr",
     "output_type": "stream",
     "text": [
      "[*********************100%%**********************]  1 of 1 completed\n"
     ]
    },
    {
     "name": "stdout",
     "output_type": "stream",
     "text": [
      "SAPPE.BK | Train : 0.6111 | Test : 0.5377\n",
      "0.00000 0.00000 nan 0.00000\n"
     ]
    },
    {
     "name": "stderr",
     "output_type": "stream",
     "text": [
      "[*********************100%%**********************]  1 of 1 completed\n",
      "[*********************100%%**********************]  1 of 1 completed"
     ]
    },
    {
     "name": "stdout",
     "output_type": "stream",
     "text": [
      "SAWAD.BK | Train : 0.6067 | Test : 0.5488\n",
      "0.02242 0.30737 0.22531 -0.33745\n"
     ]
    },
    {
     "name": "stderr",
     "output_type": "stream",
     "text": [
      "\n"
     ]
    },
    {
     "name": "stdout",
     "output_type": "stream",
     "text": [
      "SCB.BK | Train : 0.7321 | Test : 0.5714\n",
      "0.00000 0.00000 nan 0.00000\n"
     ]
    },
    {
     "name": "stderr",
     "output_type": "stream",
     "text": [
      "[*********************100%%**********************]  1 of 1 completed\n",
      "[*********************100%%**********************]  1 of 1 completed"
     ]
    },
    {
     "name": "stdout",
     "output_type": "stream",
     "text": [
      "SCC.BK | Train : 0.5894 | Test : 0.5833\n",
      "0.00000 0.00000 nan 0.00000\n"
     ]
    },
    {
     "name": "stderr",
     "output_type": "stream",
     "text": [
      "\n"
     ]
    },
    {
     "name": "stdout",
     "output_type": "stream",
     "text": [
      "SCGP.BK | Train : 0.6608 | Test : 0.6783\n",
      "0.00000 0.00000 nan 0.00000\n"
     ]
    },
    {
     "name": "stderr",
     "output_type": "stream",
     "text": [
      "[*********************100%%**********************]  1 of 1 completed\n"
     ]
    },
    {
     "name": "stdout",
     "output_type": "stream",
     "text": [
      "SIRI.BK | Train : 0.6287 | Test : 0.6155\n",
      "0.00000 0.00000 nan 0.00000\n"
     ]
    },
    {
     "name": "stderr",
     "output_type": "stream",
     "text": [
      "[*********************100%%**********************]  1 of 1 completed\n"
     ]
    },
    {
     "name": "stdout",
     "output_type": "stream",
     "text": [
      "SISB.BK | Train : 0.6380 | Test : 0.5459\n",
      "0.00000 0.00000 nan 0.00000\n"
     ]
    },
    {
     "name": "stderr",
     "output_type": "stream",
     "text": [
      "[*********************100%%**********************]  1 of 1 completed\n",
      "[*********************100%%**********************]  1 of 1 completed"
     ]
    },
    {
     "name": "stdout",
     "output_type": "stream",
     "text": [
      "SJWD.BK | Train : 0.6314 | Test : 0.6022\n",
      "0.24895 0.15029 1.55314 -0.06612\n"
     ]
    },
    {
     "name": "stderr",
     "output_type": "stream",
     "text": [
      "\n"
     ]
    },
    {
     "name": "stdout",
     "output_type": "stream",
     "text": [
      "SNNP.BK | Train : 0.7690 | Test : 0.5443\n",
      "0.00000 0.00000 nan 0.00000\n"
     ]
    },
    {
     "name": "stderr",
     "output_type": "stream",
     "text": [
      "[*********************100%%**********************]  1 of 1 completed\n"
     ]
    },
    {
     "name": "stdout",
     "output_type": "stream",
     "text": [
      "SPALI.BK | Train : 0.5959 | Test : 0.5972\n",
      "0.00000 0.00000 nan 0.00000\n"
     ]
    },
    {
     "name": "stderr",
     "output_type": "stream",
     "text": [
      "[*********************100%%**********************]  1 of 1 completed\n"
     ]
    },
    {
     "name": "stdout",
     "output_type": "stream",
     "text": [
      "SPRC.BK | Train : 0.6222 | Test : 0.6023\n",
      "0.00000 0.00000 nan 0.00000\n"
     ]
    },
    {
     "name": "stderr",
     "output_type": "stream",
     "text": [
      "[*********************100%%**********************]  1 of 1 completed\n"
     ]
    },
    {
     "name": "stdout",
     "output_type": "stream",
     "text": [
      "STA.BK | Train : 0.6208 | Test : 0.5686\n",
      "0.00000 0.00000 nan 0.00000\n"
     ]
    },
    {
     "name": "stderr",
     "output_type": "stream",
     "text": [
      "[*********************100%%**********************]  1 of 1 completed\n"
     ]
    },
    {
     "name": "stdout",
     "output_type": "stream",
     "text": [
      "STGT.BK | Train : 0.6957 | Test : 0.5969\n",
      "0.00000 0.00000 nan 0.00000\n"
     ]
    },
    {
     "name": "stderr",
     "output_type": "stream",
     "text": [
      "[*********************100%%**********************]  1 of 1 completed\n"
     ]
    },
    {
     "name": "stdout",
     "output_type": "stream",
     "text": [
      "TASCO.BK | Train : 0.6156 | Test : 0.5911\n",
      "0.00000 0.00000 nan 0.00000\n"
     ]
    },
    {
     "name": "stderr",
     "output_type": "stream",
     "text": [
      "[*********************100%%**********************]  1 of 1 completed\n",
      "[*********************100%%**********************]  1 of 1 completed"
     ]
    },
    {
     "name": "stdout",
     "output_type": "stream",
     "text": [
      "TCAP.BK | Train : 0.6007 | Test : 0.6102\n",
      "0.11185 0.22328 0.58527 -0.37931\n"
     ]
    },
    {
     "name": "stderr",
     "output_type": "stream",
     "text": [
      "\n"
     ]
    },
    {
     "name": "stdout",
     "output_type": "stream",
     "text": [
      "THG.BK | Train : 0.6771 | Test : 0.6275\n",
      "0.00000 0.00000 nan 0.00000\n"
     ]
    },
    {
     "name": "stderr",
     "output_type": "stream",
     "text": [
      "[*********************100%%**********************]  1 of 1 completed\n"
     ]
    },
    {
     "name": "stdout",
     "output_type": "stream",
     "text": [
      "TIDLOR.BK | Train : 0.6901 | Test : 0.5730\n",
      "0.00000 0.00000 nan 0.00000\n"
     ]
    },
    {
     "name": "stderr",
     "output_type": "stream",
     "text": [
      "[*********************100%%**********************]  1 of 1 completed\n"
     ]
    },
    {
     "name": "stdout",
     "output_type": "stream",
     "text": [
      "TISCO.BK | Train : 0.5980 | Test : 0.5642\n",
      "0.00000 0.00000 nan 0.00000\n"
     ]
    },
    {
     "name": "stderr",
     "output_type": "stream",
     "text": [
      "[*********************100%%**********************]  1 of 1 completed\n",
      "[*********************100%%**********************]  1 of 1 completed"
     ]
    },
    {
     "name": "stdout",
     "output_type": "stream",
     "text": [
      "TKN.BK | Train : 0.6089 | Test : 0.6091\n",
      "0.25077 0.47111 0.69850 -0.38112\n"
     ]
    },
    {
     "name": "stderr",
     "output_type": "stream",
     "text": [
      "\n"
     ]
    },
    {
     "name": "stdout",
     "output_type": "stream",
     "text": [
      "TLI.BK | Train : 0.7250 | Test : 0.6774\n",
      "0.00000 0.00000 nan 0.00000\n"
     ]
    },
    {
     "name": "stderr",
     "output_type": "stream",
     "text": [
      "[*********************100%%**********************]  1 of 1 completed\n"
     ]
    },
    {
     "name": "stdout",
     "output_type": "stream",
     "text": [
      "TOA.BK | Train : 0.6530 | Test : 0.6502\n",
      "0.00000 0.00000 nan 0.00000\n"
     ]
    },
    {
     "name": "stderr",
     "output_type": "stream",
     "text": [
      "[*********************100%%**********************]  1 of 1 completed\n"
     ]
    },
    {
     "name": "stdout",
     "output_type": "stream",
     "text": [
      "TOP.BK | Train : 0.5943 | Test : 0.5472\n",
      "0.15532 0.28649 0.64591 -0.33401\n"
     ]
    },
    {
     "name": "stderr",
     "output_type": "stream",
     "text": [
      "[*********************100%%**********************]  1 of 1 completed\n"
     ]
    },
    {
     "name": "stdout",
     "output_type": "stream",
     "text": [
      "TRUE.BK | Train : 0.5998 | Test : 0.6102\n",
      "0.17264 0.44691 0.54404 -0.41279\n"
     ]
    },
    {
     "name": "stderr",
     "output_type": "stream",
     "text": [
      "[*********************100%%**********************]  1 of 1 completed\n"
     ]
    },
    {
     "name": "stdout",
     "output_type": "stream",
     "text": [
      "TTB.BK | Train : 0.6263 | Test : 0.6484\n",
      "0.00000 0.00000 nan 0.00000\n"
     ]
    },
    {
     "name": "stderr",
     "output_type": "stream",
     "text": [
      "[*********************100%%**********************]  1 of 1 completed\n"
     ]
    },
    {
     "name": "stdout",
     "output_type": "stream",
     "text": [
      "TU.BK | Train : 0.6043 | Test : 0.5981\n",
      "0.00000 0.00000 nan 0.00000\n"
     ]
    },
    {
     "name": "stderr",
     "output_type": "stream",
     "text": [
      "[*********************100%%**********************]  1 of 1 completed\n"
     ]
    },
    {
     "name": "stdout",
     "output_type": "stream",
     "text": [
      "VGI.BK | Train : 0.6212 | Test : 0.6371\n",
      "0.00000 0.00000 nan 0.00000\n"
     ]
    },
    {
     "name": "stderr",
     "output_type": "stream",
     "text": [
      "[*********************100%%**********************]  1 of 1 completed\n"
     ]
    },
    {
     "name": "stdout",
     "output_type": "stream",
     "text": [
      "WHA.BK | Train : 0.6204 | Test : 0.5805\n",
      "0.00000 0.00000 nan 0.00000\n"
     ]
    }
   ],
   "source": [
    "startDate = \"1990-01-01\"\n",
    "endDate = \"2024-01-01\"\n",
    "\n",
    "all_data = pd.DataFrame()\n",
    "\n",
    "showModelScores = False\n",
    "gridSearch = False\n",
    "cvTest = False\n",
    "\n",
    "# \n",
    "# tickers_list = ['^SET.BK', 'DELTA.BK']\n",
    "\n",
    "for ticker in tickers_list:\n",
    "    \n",
    "    dft = yf.Ticker(ticker)\n",
    "    timeZone = dft.info.get(\"timeZoneFullName\")\n",
    "    tickerName = dft.info.get(\"longName\", \"Unknown Ticker\")\n",
    "    \n",
    "    df = fetch_data(ticker, startDate, endDate)\n",
    "    \n",
    "    df['MACD'] = ta.macd(df['Close'], fast=12, slow=26, signal=9)['MACD_12_26_9']\n",
    "    df['Pct_Change'] = df['Close'].pct_change() * 100\n",
    "\n",
    "    delta = df['Close'].diff()\n",
    "    gain = (delta.where(delta > 0, 0)).rolling(window=14).mean()\n",
    "    loss = (-delta.where(delta < 0, 0)).rolling(window=14).mean()\n",
    "    rs = gain / loss\n",
    "    df['RSI'] = 100 - (100 / (1 + rs))\n",
    "\n",
    "    avg_gain = gain.ewm(span=14, min_periods=14).mean()\n",
    "    avg_loss = loss.ewm(span=14, min_periods=14).mean()\n",
    "    rs = avg_gain / avg_loss\n",
    "    df['RSI_EMA'] = 100 - (100 / (1 + rs))\n",
    "\n",
    "    df['RSI_ta'] = ta.rsi(df['Close'], length=14)\n",
    "    df['MA10'] = df.ta.sma(length=10)\n",
    "    df['MA50'] = df.ta.sma(length=50)\n",
    "    df['MA200'] = df.ta.sma(length=200)\n",
    "\n",
    "    window = 20\n",
    "    df['MA20'] = df['Close'].rolling(window=window).mean()\n",
    "    df['std_dev'] = df['Close'].rolling(window=window).std()\n",
    "    df['Upper_BB'] = df['MA20'] + (df['std_dev'] * 2)\n",
    "    df['Lower_BB'] = df['MA20'] - (df['std_dev'] * 2)\n",
    "    \n",
    "    df['Target'] = (df['Close'].shift(-1) > df['Close']).astype(int)\n",
    "    \n",
    "    df = df.dropna()\n",
    "    \n",
    "    trends = detect_trends(df)\n",
    "    df = label_trends(df, trends)\n",
    "        \n",
    "    vix = yf.Ticker(\"^VIX\")\n",
    "    vix_df = vix.history(interval=\"1d\", start=startDate, end=endDate)\n",
    "    \n",
    "    # Calculate percentage change for VIX\n",
    "    # Convert vix_df index timezone to match df\n",
    "    stock_timezone = pytz.timezone(timeZone)\n",
    "    vix_df.index = vix_df.index.tz_convert(stock_timezone)\n",
    "    vix_df.index = vix_df.index.tz_localize(None)  # Convert to naive timezone\n",
    "\n",
    "    # Ensure matching datetime indices and reindex vix_df\n",
    "    vix_df = vix_df.reindex(df.index, method='ffill')\n",
    "\n",
    "    # Merge VIX close prices into the original DataFrame\n",
    "    df['VIX'] = vix_df['Close']\n",
    "    \n",
    "    X = df[['Pct_Change', 'std_dev', 'MA200', 'MA50', 'MA10', 'MACD', 'RSI_ta', 'VIX']]\n",
    "    y = df['Target']\n",
    "\n",
    "    X_train, X_test, y_train, y_test = train_test_split(X, y, test_size=0.2, shuffle=False)\n",
    "\n",
    "    rf = RandomForestClassifier(n_estimators=100, max_depth=5, random_state=42)\n",
    "    xgb = XGBClassifier(objective='binary:logistic', colsample_bytree=0.8, gamma=0.1, learning_rate=0.001, max_depth=3, n_estimators=100, reg_alpha=0.1, reg_lambda=0.1, subsample=0.8)\n",
    "    \n",
    "    # rf.fit(X_train, y_train)\n",
    "    # xgb.fit(X_train, y_train)\n",
    "    \n",
    "    model = VotingClassifier(estimators=[('rf', rf), ('xgb', xgb)], voting='soft')\n",
    "    model.fit(X_train, y_train)\n",
    "\n",
    "    if showModelScores:\n",
    "        y_pred = model.predict(X_test)\n",
    "        acc = accuracy_score(y_test, y_pred)\n",
    "        print(f\"Accuracy of the model: {acc:.4f}\")\n",
    "\n",
    "        cm = confusion_matrix(y_test, y_pred)\n",
    "        disp = ConfusionMatrixDisplay(confusion_matrix=cm)\n",
    "        disp.plot()\n",
    "        plt.show()\n",
    "    \n",
    "    df['Predict'] = 0\n",
    "    \n",
    "    df.loc[X_test.index, 'Predict'] = model.predict(X_test)\n",
    "    \n",
    "    df['Position'] = 0\n",
    "    \n",
    "    start_idx = df.index.get_loc(X_test.index[0])\n",
    "\n",
    "    positions = []\n",
    "    \n",
    "    holding_position = False\n",
    "    for i in range(start_idx, len(df)):\n",
    "        if df.loc[df.index[i], 'Trend'] == 1 and df.loc[df.index[i], 'Predict'] == 1 and not holding_position:\n",
    "            df.loc[df.index[i], 'Position'] = 1\n",
    "            holding_position = True\n",
    "            positions.append(df.index[i])\n",
    "        elif df.loc[df.index[i], 'Trend'] == 2 or df.loc[df.index[i], 'Predict'] == 0 and holding_position:\n",
    "            df.loc[df.index[i], 'Position'] = 0\n",
    "            holding_position = False\n",
    "\n",
    "    \n",
    "    df.loc[df['Position'] == 0, 'Position'] = np.nan\n",
    "    df['Position'] = df['Position'].fillna(method='ffill')\n",
    "    df['Position'] = df['Position'].fillna(0).astype(int)\n",
    "\n",
    "    df_test_period = df.loc[X_test.index[0]:]\n",
    "    df_test_period = df_test_period.copy()\n",
    "    df_test_period['Strategy_Returns'] = df_test_period['Position'].shift(1) * df_test_period['Close'].pct_change()\n",
    "    df_test_period.dropna(subset=['Strategy_Returns'], inplace=True)\n",
    "\n",
    "    returns = df_test_period['Strategy_Returns']\n",
    "    \n",
    "    cumulative_returns = (1 + returns).cumprod() - 1\n",
    "    perf_stats = {\n",
    "        'Annual Return': ep.annual_return(returns),\n",
    "        'Cumulative Returns': ep.cum_returns_final(returns),\n",
    "        'Annual Volatility': ep.annual_volatility(returns),\n",
    "        'Sharpe Ratio': ep.sharpe_ratio(returns),\n",
    "        'Sortino Ratio': ep.sortino_ratio(returns),\n",
    "        'Max Drawdown': ep.max_drawdown(returns),\n",
    "        'Calmar Ratio': ep.calmar_ratio(returns)\n",
    "    }\n",
    "    \n",
    "    perf_df = pd.DataFrame(perf_stats, index=[ticker])\n",
    "    \n",
    "    perf_df['Index Name'] = tickerName\n",
    "    \n",
    "    perf_df['1_Train'] = model.score(X_train,y_train)\n",
    "    perf_df['1_Test'] = model.score(X_test,y_test)\n",
    "    \n",
    "    perf_df['Test Date'] = str(X_test.index[0])\n",
    "    \n",
    "    perf_df = perf_df[['Index Name'] + [col for col in perf_df.columns if col != 'Index Name']]\n",
    "    \n",
    "    # Append to all_data DataFrame\n",
    "    all_data = pd.concat([all_data, perf_df])\n",
    "    \n",
    "    print(f\"{ticker} | Train : {model.score(X_train, y_train):.4f} | Test : {model.score(X_test, y_test):.4f}\")\n",
    "    print(f\"{ep.annual_return(returns):.5f} {ep.annual_volatility(returns):.5f} {ep.sharpe_ratio(returns):.5f} {ep.max_drawdown(returns):.5f}\")"
   ]
  },
  {
   "cell_type": "code",
   "execution_count": 9,
   "metadata": {},
   "outputs": [],
   "source": [
    "all_data.dropna(inplace=True)"
   ]
  },
  {
   "cell_type": "code",
   "execution_count": 10,
   "metadata": {},
   "outputs": [
    {
     "data": {
      "text/html": [
       "<div>\n",
       "<style scoped>\n",
       "    .dataframe tbody tr th:only-of-type {\n",
       "        vertical-align: middle;\n",
       "    }\n",
       "\n",
       "    .dataframe tbody tr th {\n",
       "        vertical-align: top;\n",
       "    }\n",
       "\n",
       "    .dataframe thead th {\n",
       "        text-align: right;\n",
       "    }\n",
       "</style>\n",
       "<table border=\"1\" class=\"dataframe\">\n",
       "  <thead>\n",
       "    <tr style=\"text-align: right;\">\n",
       "      <th></th>\n",
       "      <th>Index Name</th>\n",
       "      <th>Annual Return</th>\n",
       "      <th>Cumulative Returns</th>\n",
       "      <th>Annual Volatility</th>\n",
       "      <th>Sharpe Ratio</th>\n",
       "      <th>Sortino Ratio</th>\n",
       "      <th>Max Drawdown</th>\n",
       "      <th>Calmar Ratio</th>\n",
       "      <th>1_Train</th>\n",
       "      <th>1_Test</th>\n",
       "      <th>Test Date</th>\n",
       "    </tr>\n",
       "  </thead>\n",
       "  <tbody>\n",
       "    <tr>\n",
       "      <th>^SET.BK</th>\n",
       "      <td>SET Index</td>\n",
       "      <td>0.065774</td>\n",
       "      <td>0.382045</td>\n",
       "      <td>0.120973</td>\n",
       "      <td>0.586892</td>\n",
       "      <td>0.889116</td>\n",
       "      <td>-0.207349</td>\n",
       "      <td>0.317217</td>\n",
       "      <td>0.605386</td>\n",
       "      <td>0.505074</td>\n",
       "      <td>2018-09-13 00:00:00</td>\n",
       "    </tr>\n",
       "    <tr>\n",
       "      <th>AEONTS.BK</th>\n",
       "      <td>AEON Thana Sinsap (Thailand) Public Company Li...</td>\n",
       "      <td>0.145183</td>\n",
       "      <td>0.758242</td>\n",
       "      <td>0.349984</td>\n",
       "      <td>0.561368</td>\n",
       "      <td>0.893914</td>\n",
       "      <td>-0.416000</td>\n",
       "      <td>0.348998</td>\n",
       "      <td>0.676828</td>\n",
       "      <td>0.594286</td>\n",
       "      <td>2019-09-02 00:00:00</td>\n",
       "    </tr>\n",
       "    <tr>\n",
       "      <th>AMATA.BK</th>\n",
       "      <td>Amata Corporation Public Company Limited</td>\n",
       "      <td>0.264899</td>\n",
       "      <td>1.884443</td>\n",
       "      <td>0.315083</td>\n",
       "      <td>0.902271</td>\n",
       "      <td>1.436620</td>\n",
       "      <td>-0.301543</td>\n",
       "      <td>0.878479</td>\n",
       "      <td>0.610207</td>\n",
       "      <td>0.584872</td>\n",
       "      <td>2019-04-23 00:00:00</td>\n",
       "    </tr>\n",
       "    <tr>\n",
       "      <th>AOT.BK</th>\n",
       "      <td>Airports of Thailand Public Company Limited</td>\n",
       "      <td>0.067051</td>\n",
       "      <td>0.271277</td>\n",
       "      <td>0.281656</td>\n",
       "      <td>0.367652</td>\n",
       "      <td>0.616628</td>\n",
       "      <td>-0.274074</td>\n",
       "      <td>0.244645</td>\n",
       "      <td>0.585209</td>\n",
       "      <td>0.584137</td>\n",
       "      <td>2020-02-21 00:00:00</td>\n",
       "    </tr>\n",
       "    <tr>\n",
       "      <th>BANPU.BK</th>\n",
       "      <td>Banpu Public Company Limited</td>\n",
       "      <td>0.122534</td>\n",
       "      <td>0.695447</td>\n",
       "      <td>0.384103</td>\n",
       "      <td>0.491838</td>\n",
       "      <td>0.753959</td>\n",
       "      <td>-0.577181</td>\n",
       "      <td>0.212297</td>\n",
       "      <td>0.600869</td>\n",
       "      <td>0.606771</td>\n",
       "      <td>2019-03-28 00:00:00</td>\n",
       "    </tr>\n",
       "    <tr>\n",
       "      <th>BBL.BK</th>\n",
       "      <td>Bangkok Bank Public Company Limited</td>\n",
       "      <td>0.134337</td>\n",
       "      <td>0.778409</td>\n",
       "      <td>0.235542</td>\n",
       "      <td>0.652367</td>\n",
       "      <td>0.998325</td>\n",
       "      <td>-0.294922</td>\n",
       "      <td>0.455499</td>\n",
       "      <td>0.586319</td>\n",
       "      <td>0.574653</td>\n",
       "      <td>2019-03-28 00:00:00</td>\n",
       "    </tr>\n",
       "    <tr>\n",
       "      <th>BDMS.BK</th>\n",
       "      <td>Bangkok Dusit Medical Services Public Company ...</td>\n",
       "      <td>0.110786</td>\n",
       "      <td>0.558989</td>\n",
       "      <td>0.215282</td>\n",
       "      <td>0.594837</td>\n",
       "      <td>0.931274</td>\n",
       "      <td>-0.255319</td>\n",
       "      <td>0.433912</td>\n",
       "      <td>0.631307</td>\n",
       "      <td>0.621013</td>\n",
       "      <td>2019-08-08 00:00:00</td>\n",
       "    </tr>\n",
       "    <tr>\n",
       "      <th>BH.BK</th>\n",
       "      <td>Bumrungrad Hospital Public Company Limited</td>\n",
       "      <td>0.216685</td>\n",
       "      <td>1.114286</td>\n",
       "      <td>0.237408</td>\n",
       "      <td>0.943897</td>\n",
       "      <td>1.555234</td>\n",
       "      <td>-0.205224</td>\n",
       "      <td>1.055845</td>\n",
       "      <td>0.582489</td>\n",
       "      <td>0.575286</td>\n",
       "      <td>2020-01-09 00:00:00</td>\n",
       "    </tr>\n",
       "    <tr>\n",
       "      <th>COM7.BK</th>\n",
       "      <td>Com7 Public Company Limited</td>\n",
       "      <td>-0.200527</td>\n",
       "      <td>-0.278788</td>\n",
       "      <td>0.339963</td>\n",
       "      <td>-0.485130</td>\n",
       "      <td>-0.642010</td>\n",
       "      <td>-0.394444</td>\n",
       "      <td>-0.508377</td>\n",
       "      <td>0.603121</td>\n",
       "      <td>0.609756</td>\n",
       "      <td>2022-06-27 00:00:00</td>\n",
       "    </tr>\n",
       "    <tr>\n",
       "      <th>DELTA.BK</th>\n",
       "      <td>Delta Electronics (Thailand) Public Company Li...</td>\n",
       "      <td>1.007320</td>\n",
       "      <td>23.109588</td>\n",
       "      <td>0.694838</td>\n",
       "      <td>1.342341</td>\n",
       "      <td>2.256692</td>\n",
       "      <td>-0.619792</td>\n",
       "      <td>1.625256</td>\n",
       "      <td>0.586319</td>\n",
       "      <td>0.519965</td>\n",
       "      <td>2019-03-28 00:00:00</td>\n",
       "    </tr>\n",
       "    <tr>\n",
       "      <th>DOHOME.BK</th>\n",
       "      <td>Dohome Public Company Limited</td>\n",
       "      <td>0.720597</td>\n",
       "      <td>0.451429</td>\n",
       "      <td>0.283726</td>\n",
       "      <td>2.054758</td>\n",
       "      <td>3.445418</td>\n",
       "      <td>-0.125000</td>\n",
       "      <td>5.764777</td>\n",
       "      <td>0.654676</td>\n",
       "      <td>0.597701</td>\n",
       "      <td>2023-04-12 00:00:00</td>\n",
       "    </tr>\n",
       "    <tr>\n",
       "      <th>EGCO.BK</th>\n",
       "      <td>Electricity Generating Public Company Limited</td>\n",
       "      <td>-0.075277</td>\n",
       "      <td>-0.300546</td>\n",
       "      <td>0.223584</td>\n",
       "      <td>-0.238440</td>\n",
       "      <td>-0.348082</td>\n",
       "      <td>-0.600000</td>\n",
       "      <td>-0.125462</td>\n",
       "      <td>0.604126</td>\n",
       "      <td>0.558160</td>\n",
       "      <td>2019-03-28 00:00:00</td>\n",
       "    </tr>\n",
       "    <tr>\n",
       "      <th>GPSC.BK</th>\n",
       "      <td>Global Power Synergy Public Company Limited</td>\n",
       "      <td>0.186526</td>\n",
       "      <td>0.293333</td>\n",
       "      <td>0.154865</td>\n",
       "      <td>1.180371</td>\n",
       "      <td>2.299838</td>\n",
       "      <td>-0.083333</td>\n",
       "      <td>2.238308</td>\n",
       "      <td>0.617763</td>\n",
       "      <td>0.552632</td>\n",
       "      <td>2022-06-10 00:00:00</td>\n",
       "    </tr>\n",
       "    <tr>\n",
       "      <th>JMT.BK</th>\n",
       "      <td>JMT Network Services Public Company Limited</td>\n",
       "      <td>-0.122086</td>\n",
       "      <td>-0.227273</td>\n",
       "      <td>0.285664</td>\n",
       "      <td>-0.307775</td>\n",
       "      <td>-0.382989</td>\n",
       "      <td>-0.508163</td>\n",
       "      <td>-0.240249</td>\n",
       "      <td>0.602000</td>\n",
       "      <td>0.544000</td>\n",
       "      <td>2021-12-08 00:00:00</td>\n",
       "    </tr>\n",
       "    <tr>\n",
       "      <th>KBANK.BK</th>\n",
       "      <td>Kasikornbank Public Company Limited</td>\n",
       "      <td>0.124472</td>\n",
       "      <td>0.708861</td>\n",
       "      <td>0.288314</td>\n",
       "      <td>0.548522</td>\n",
       "      <td>0.891829</td>\n",
       "      <td>-0.395299</td>\n",
       "      <td>0.314882</td>\n",
       "      <td>0.581107</td>\n",
       "      <td>0.562500</td>\n",
       "      <td>2019-03-28 00:00:00</td>\n",
       "    </tr>\n",
       "    <tr>\n",
       "      <th>KTC.BK</th>\n",
       "      <td>Krungthai Card Public Company Limited</td>\n",
       "      <td>0.163426</td>\n",
       "      <td>0.827731</td>\n",
       "      <td>0.323509</td>\n",
       "      <td>0.628819</td>\n",
       "      <td>0.950926</td>\n",
       "      <td>-0.478916</td>\n",
       "      <td>0.341243</td>\n",
       "      <td>0.600796</td>\n",
       "      <td>0.556219</td>\n",
       "      <td>2019-11-06 00:00:00</td>\n",
       "    </tr>\n",
       "    <tr>\n",
       "      <th>PLANB.BK</th>\n",
       "      <td>Plan B Media Public Company Limited</td>\n",
       "      <td>0.291603</td>\n",
       "      <td>0.487395</td>\n",
       "      <td>0.284572</td>\n",
       "      <td>1.041079</td>\n",
       "      <td>1.614008</td>\n",
       "      <td>-0.218274</td>\n",
       "      <td>1.335948</td>\n",
       "      <td>0.621086</td>\n",
       "      <td>0.579082</td>\n",
       "      <td>2022-05-24 00:00:00</td>\n",
       "    </tr>\n",
       "    <tr>\n",
       "      <th>PTT.BK</th>\n",
       "      <td>PTT Public Company Limited</td>\n",
       "      <td>0.081931</td>\n",
       "      <td>0.388350</td>\n",
       "      <td>0.251445</td>\n",
       "      <td>0.436894</td>\n",
       "      <td>0.713525</td>\n",
       "      <td>-0.337079</td>\n",
       "      <td>0.243063</td>\n",
       "      <td>0.564700</td>\n",
       "      <td>0.630828</td>\n",
       "      <td>2019-08-30 00:00:00</td>\n",
       "    </tr>\n",
       "    <tr>\n",
       "      <th>PTTEP.BK</th>\n",
       "      <td>PTT Exploration and Production Public Company ...</td>\n",
       "      <td>0.270658</td>\n",
       "      <td>1.718182</td>\n",
       "      <td>0.304619</td>\n",
       "      <td>0.936781</td>\n",
       "      <td>1.537871</td>\n",
       "      <td>-0.297158</td>\n",
       "      <td>0.910823</td>\n",
       "      <td>0.578660</td>\n",
       "      <td>0.543210</td>\n",
       "      <td>2019-08-28 00:00:00</td>\n",
       "    </tr>\n",
       "    <tr>\n",
       "      <th>RBF.BK</th>\n",
       "      <td>R&amp;B Food Supply Public Company Limited</td>\n",
       "      <td>1.122454</td>\n",
       "      <td>0.622222</td>\n",
       "      <td>0.299257</td>\n",
       "      <td>2.665914</td>\n",
       "      <td>4.815099</td>\n",
       "      <td>-0.156780</td>\n",
       "      <td>7.159436</td>\n",
       "      <td>0.651840</td>\n",
       "      <td>0.546012</td>\n",
       "      <td>2023-05-02 00:00:00</td>\n",
       "    </tr>\n",
       "    <tr>\n",
       "      <th>SAWAD.BK</th>\n",
       "      <td>Srisawad Corporation Public Company Limited</td>\n",
       "      <td>0.022417</td>\n",
       "      <td>0.038462</td>\n",
       "      <td>0.307366</td>\n",
       "      <td>0.225312</td>\n",
       "      <td>0.325487</td>\n",
       "      <td>-0.337449</td>\n",
       "      <td>0.066430</td>\n",
       "      <td>0.606748</td>\n",
       "      <td>0.548837</td>\n",
       "      <td>2022-03-22 00:00:00</td>\n",
       "    </tr>\n",
       "    <tr>\n",
       "      <th>SJWD.BK</th>\n",
       "      <td>SCGJWD Logistics Public Company Limited</td>\n",
       "      <td>0.248946</td>\n",
       "      <td>0.375000</td>\n",
       "      <td>0.150293</td>\n",
       "      <td>1.553137</td>\n",
       "      <td>3.503243</td>\n",
       "      <td>-0.066116</td>\n",
       "      <td>3.765310</td>\n",
       "      <td>0.631397</td>\n",
       "      <td>0.602210</td>\n",
       "      <td>2022-07-06 00:00:00</td>\n",
       "    </tr>\n",
       "    <tr>\n",
       "      <th>TCAP.BK</th>\n",
       "      <td>Thanachart Capital Public Company Limited</td>\n",
       "      <td>0.111845</td>\n",
       "      <td>0.622951</td>\n",
       "      <td>0.223281</td>\n",
       "      <td>0.585269</td>\n",
       "      <td>0.913859</td>\n",
       "      <td>-0.379310</td>\n",
       "      <td>0.294864</td>\n",
       "      <td>0.600651</td>\n",
       "      <td>0.610243</td>\n",
       "      <td>2019-03-28 00:00:00</td>\n",
       "    </tr>\n",
       "    <tr>\n",
       "      <th>TKN.BK</th>\n",
       "      <td>Taokaenoi Food &amp; Marketing Public Company Limited</td>\n",
       "      <td>0.250768</td>\n",
       "      <td>0.366907</td>\n",
       "      <td>0.471112</td>\n",
       "      <td>0.698504</td>\n",
       "      <td>1.221111</td>\n",
       "      <td>-0.381119</td>\n",
       "      <td>0.657978</td>\n",
       "      <td>0.608943</td>\n",
       "      <td>0.609065</td>\n",
       "      <td>2022-07-20 00:00:00</td>\n",
       "    </tr>\n",
       "    <tr>\n",
       "      <th>TOP.BK</th>\n",
       "      <td>Thai Oil Public Company Limited</td>\n",
       "      <td>0.155324</td>\n",
       "      <td>0.674721</td>\n",
       "      <td>0.286492</td>\n",
       "      <td>0.645910</td>\n",
       "      <td>0.983275</td>\n",
       "      <td>-0.334006</td>\n",
       "      <td>0.465033</td>\n",
       "      <td>0.594279</td>\n",
       "      <td>0.547170</td>\n",
       "      <td>2020-04-08 00:00:00</td>\n",
       "    </tr>\n",
       "    <tr>\n",
       "      <th>TRUE.BK</th>\n",
       "      <td>True Corporation Public Company Limited</td>\n",
       "      <td>0.172637</td>\n",
       "      <td>1.069672</td>\n",
       "      <td>0.446906</td>\n",
       "      <td>0.544041</td>\n",
       "      <td>1.187208</td>\n",
       "      <td>-0.412791</td>\n",
       "      <td>0.418219</td>\n",
       "      <td>0.599783</td>\n",
       "      <td>0.610243</td>\n",
       "      <td>2019-03-28 00:00:00</td>\n",
       "    </tr>\n",
       "  </tbody>\n",
       "</table>\n",
       "</div>"
      ],
      "text/plain": [
       "                                                  Index Name  Annual Return  \\\n",
       "^SET.BK                                            SET Index       0.065774   \n",
       "AEONTS.BK  AEON Thana Sinsap (Thailand) Public Company Li...       0.145183   \n",
       "AMATA.BK            Amata Corporation Public Company Limited       0.264899   \n",
       "AOT.BK           Airports of Thailand Public Company Limited       0.067051   \n",
       "BANPU.BK                        Banpu Public Company Limited       0.122534   \n",
       "BBL.BK                   Bangkok Bank Public Company Limited       0.134337   \n",
       "BDMS.BK    Bangkok Dusit Medical Services Public Company ...       0.110786   \n",
       "BH.BK             Bumrungrad Hospital Public Company Limited       0.216685   \n",
       "COM7.BK                          Com7 Public Company Limited      -0.200527   \n",
       "DELTA.BK   Delta Electronics (Thailand) Public Company Li...       1.007320   \n",
       "DOHOME.BK                      Dohome Public Company Limited       0.720597   \n",
       "EGCO.BK        Electricity Generating Public Company Limited      -0.075277   \n",
       "GPSC.BK          Global Power Synergy Public Company Limited       0.186526   \n",
       "JMT.BK           JMT Network Services Public Company Limited      -0.122086   \n",
       "KBANK.BK                 Kasikornbank Public Company Limited       0.124472   \n",
       "KTC.BK                 Krungthai Card Public Company Limited       0.163426   \n",
       "PLANB.BK                 Plan B Media Public Company Limited       0.291603   \n",
       "PTT.BK                            PTT Public Company Limited       0.081931   \n",
       "PTTEP.BK   PTT Exploration and Production Public Company ...       0.270658   \n",
       "RBF.BK                R&B Food Supply Public Company Limited       1.122454   \n",
       "SAWAD.BK         Srisawad Corporation Public Company Limited       0.022417   \n",
       "SJWD.BK              SCGJWD Logistics Public Company Limited       0.248946   \n",
       "TCAP.BK            Thanachart Capital Public Company Limited       0.111845   \n",
       "TKN.BK     Taokaenoi Food & Marketing Public Company Limited       0.250768   \n",
       "TOP.BK                       Thai Oil Public Company Limited       0.155324   \n",
       "TRUE.BK              True Corporation Public Company Limited       0.172637   \n",
       "\n",
       "           Cumulative Returns  Annual Volatility  Sharpe Ratio  Sortino Ratio  \\\n",
       "^SET.BK              0.382045           0.120973      0.586892       0.889116   \n",
       "AEONTS.BK            0.758242           0.349984      0.561368       0.893914   \n",
       "AMATA.BK             1.884443           0.315083      0.902271       1.436620   \n",
       "AOT.BK               0.271277           0.281656      0.367652       0.616628   \n",
       "BANPU.BK             0.695447           0.384103      0.491838       0.753959   \n",
       "BBL.BK               0.778409           0.235542      0.652367       0.998325   \n",
       "BDMS.BK              0.558989           0.215282      0.594837       0.931274   \n",
       "BH.BK                1.114286           0.237408      0.943897       1.555234   \n",
       "COM7.BK             -0.278788           0.339963     -0.485130      -0.642010   \n",
       "DELTA.BK            23.109588           0.694838      1.342341       2.256692   \n",
       "DOHOME.BK            0.451429           0.283726      2.054758       3.445418   \n",
       "EGCO.BK             -0.300546           0.223584     -0.238440      -0.348082   \n",
       "GPSC.BK              0.293333           0.154865      1.180371       2.299838   \n",
       "JMT.BK              -0.227273           0.285664     -0.307775      -0.382989   \n",
       "KBANK.BK             0.708861           0.288314      0.548522       0.891829   \n",
       "KTC.BK               0.827731           0.323509      0.628819       0.950926   \n",
       "PLANB.BK             0.487395           0.284572      1.041079       1.614008   \n",
       "PTT.BK               0.388350           0.251445      0.436894       0.713525   \n",
       "PTTEP.BK             1.718182           0.304619      0.936781       1.537871   \n",
       "RBF.BK               0.622222           0.299257      2.665914       4.815099   \n",
       "SAWAD.BK             0.038462           0.307366      0.225312       0.325487   \n",
       "SJWD.BK              0.375000           0.150293      1.553137       3.503243   \n",
       "TCAP.BK              0.622951           0.223281      0.585269       0.913859   \n",
       "TKN.BK               0.366907           0.471112      0.698504       1.221111   \n",
       "TOP.BK               0.674721           0.286492      0.645910       0.983275   \n",
       "TRUE.BK              1.069672           0.446906      0.544041       1.187208   \n",
       "\n",
       "           Max Drawdown  Calmar Ratio   1_Train    1_Test            Test Date  \n",
       "^SET.BK       -0.207349      0.317217  0.605386  0.505074  2018-09-13 00:00:00  \n",
       "AEONTS.BK     -0.416000      0.348998  0.676828  0.594286  2019-09-02 00:00:00  \n",
       "AMATA.BK      -0.301543      0.878479  0.610207  0.584872  2019-04-23 00:00:00  \n",
       "AOT.BK        -0.274074      0.244645  0.585209  0.584137  2020-02-21 00:00:00  \n",
       "BANPU.BK      -0.577181      0.212297  0.600869  0.606771  2019-03-28 00:00:00  \n",
       "BBL.BK        -0.294922      0.455499  0.586319  0.574653  2019-03-28 00:00:00  \n",
       "BDMS.BK       -0.255319      0.433912  0.631307  0.621013  2019-08-08 00:00:00  \n",
       "BH.BK         -0.205224      1.055845  0.582489  0.575286  2020-01-09 00:00:00  \n",
       "COM7.BK       -0.394444     -0.508377  0.603121  0.609756  2022-06-27 00:00:00  \n",
       "DELTA.BK      -0.619792      1.625256  0.586319  0.519965  2019-03-28 00:00:00  \n",
       "DOHOME.BK     -0.125000      5.764777  0.654676  0.597701  2023-04-12 00:00:00  \n",
       "EGCO.BK       -0.600000     -0.125462  0.604126  0.558160  2019-03-28 00:00:00  \n",
       "GPSC.BK       -0.083333      2.238308  0.617763  0.552632  2022-06-10 00:00:00  \n",
       "JMT.BK        -0.508163     -0.240249  0.602000  0.544000  2021-12-08 00:00:00  \n",
       "KBANK.BK      -0.395299      0.314882  0.581107  0.562500  2019-03-28 00:00:00  \n",
       "KTC.BK        -0.478916      0.341243  0.600796  0.556219  2019-11-06 00:00:00  \n",
       "PLANB.BK      -0.218274      1.335948  0.621086  0.579082  2022-05-24 00:00:00  \n",
       "PTT.BK        -0.337079      0.243063  0.564700  0.630828  2019-08-30 00:00:00  \n",
       "PTTEP.BK      -0.297158      0.910823  0.578660  0.543210  2019-08-28 00:00:00  \n",
       "RBF.BK        -0.156780      7.159436  0.651840  0.546012  2023-05-02 00:00:00  \n",
       "SAWAD.BK      -0.337449      0.066430  0.606748  0.548837  2022-03-22 00:00:00  \n",
       "SJWD.BK       -0.066116      3.765310  0.631397  0.602210  2022-07-06 00:00:00  \n",
       "TCAP.BK       -0.379310      0.294864  0.600651  0.610243  2019-03-28 00:00:00  \n",
       "TKN.BK        -0.381119      0.657978  0.608943  0.609065  2022-07-20 00:00:00  \n",
       "TOP.BK        -0.334006      0.465033  0.594279  0.547170  2020-04-08 00:00:00  \n",
       "TRUE.BK       -0.412791      0.418219  0.599783  0.610243  2019-03-28 00:00:00  "
      ]
     },
     "execution_count": 10,
     "metadata": {},
     "output_type": "execute_result"
    }
   ],
   "source": [
    "all_data"
   ]
  },
  {
   "cell_type": "code",
   "execution_count": 11,
   "metadata": {},
   "outputs": [],
   "source": [
    "all_data.to_excel(\"Trend_SET50.xlsx\", index=True)"
   ]
  }
 ],
 "metadata": {
  "kernelspec": {
   "display_name": "Python 3",
   "language": "python",
   "name": "python3"
  },
  "language_info": {
   "codemirror_mode": {
    "name": "ipython",
    "version": 3
   },
   "file_extension": ".py",
   "mimetype": "text/x-python",
   "name": "python",
   "nbconvert_exporter": "python",
   "pygments_lexer": "ipython3",
   "version": "3.11.4"
  }
 },
 "nbformat": 4,
 "nbformat_minor": 2
}
